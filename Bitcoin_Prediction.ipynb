{
  "nbformat": 4,
  "nbformat_minor": 0,
  "metadata": {
    "colab": {
      "provenance": [],
      "authorship_tag": "ABX9TyODkRGKOPYtV2bC+cjOdiaG",
      "include_colab_link": true
    },
    "kernelspec": {
      "name": "python3",
      "display_name": "Python 3"
    },
    "language_info": {
      "name": "python"
    }
  },
  "cells": [
    {
      "cell_type": "markdown",
      "metadata": {
        "id": "view-in-github",
        "colab_type": "text"
      },
      "source": [
        "<a href=\"https://colab.research.google.com/github/Gade-Sai-Likhitha/Bitcoin_Prediction/blob/main/Bitcoin_Prediction.ipynb\" target=\"_parent\"><img src=\"https://colab.research.google.com/assets/colab-badge.svg\" alt=\"Open In Colab\"/></a>"
      ]
    },
    {
      "cell_type": "code",
      "execution_count": null,
      "metadata": {
        "id": "GAw8vPvCDq7Y"
      },
      "outputs": [],
      "source": [
        "import pandas as pd\n",
        "import numpy as np\n",
        "%matplotlib inline"
      ]
    },
    {
      "cell_type": "code",
      "source": [
        "data = pd.read_csv('/content/bitcoin_dataset.csv')\n",
        "test = pd.read_csv('/content/test_set.csv')"
      ],
      "metadata": {
        "id": "_HNLxMphFkKt"
      },
      "execution_count": null,
      "outputs": []
    },
    {
      "cell_type": "code",
      "source": [
        "data.head()"
      ],
      "metadata": {
        "colab": {
          "base_uri": "https://localhost:8080/",
          "height": 342
        },
        "id": "Lt8tvcHkFxTV",
        "outputId": "69138d94-b43f-4809-c839-ca13faa35286"
      },
      "execution_count": null,
      "outputs": [
        {
          "output_type": "execute_result",
          "data": {
            "text/plain": [
              "             Date  btc_market_price  btc_total_bitcoins  btc_market_cap  \\\n",
              "0  2/17/2010 0:00               0.0           2043200.0             0.0   \n",
              "1  2/18/2010 0:00               0.0           2054650.0             0.0   \n",
              "2  2/19/2010 0:00               0.0           2063600.0             0.0   \n",
              "3  2/20/2010 0:00               0.0           2074700.0             0.0   \n",
              "4  2/21/2010 0:00               0.0           2085400.0             0.0   \n",
              "\n",
              "   btc_trade_volume  btc_blocks_size  btc_avg_block_size  \\\n",
              "0               0.0              0.0            0.000235   \n",
              "1               0.0              0.0            0.000241   \n",
              "2               0.0              0.0            0.000228   \n",
              "3               0.0              0.0            0.000218   \n",
              "4               0.0              0.0            0.000234   \n",
              "\n",
              "   btc_n_orphaned_blocks  btc_n_transactions_per_block  \\\n",
              "0                      0                           1.0   \n",
              "1                      0                           1.0   \n",
              "2                      0                           1.0   \n",
              "3                      0                           1.0   \n",
              "4                      0                           1.0   \n",
              "\n",
              "   btc_median_confirmation_time  ...  btc_cost_per_transaction_percent  \\\n",
              "0                           0.0  ...                         31.781022   \n",
              "1                           0.0  ...                        154.463801   \n",
              "2                           0.0  ...                       1278.516635   \n",
              "3                           0.0  ...                      22186.687990   \n",
              "4                           0.0  ...                        689.179876   \n",
              "\n",
              "   btc_cost_per_transaction  btc_n_unique_addresses  btc_n_transactions  \\\n",
              "0                       0.0                     241                 244   \n",
              "1                       0.0                     234                 235   \n",
              "2                       0.0                     185                 183   \n",
              "3                       0.0                     224                 224   \n",
              "4                       0.0                     218                 218   \n",
              "\n",
              "   btc_n_transactions_total  btc_n_transactions_excluding_popular  \\\n",
              "0                     41240                                   244   \n",
              "1                     41475                                   235   \n",
              "2                     41658                                   183   \n",
              "3                     41882                                   224   \n",
              "4                     42100                                   218   \n",
              "\n",
              "   btc_n_transactions_excluding_chains_longer_than_100  btc_output_volume  \\\n",
              "0                                                244             65173.13   \n",
              "1                                                235             18911.74   \n",
              "2                                                183              9749.98   \n",
              "3                                                224             11150.03   \n",
              "4                                                218             12266.83   \n",
              "\n",
              "   btc_estimated_transaction_volume  btc_estimated_transaction_volume_usd  \n",
              "0                           36500.0                                   0.0  \n",
              "1                            7413.0                                   0.0  \n",
              "2                             700.0                                   0.0  \n",
              "3                              50.0                                   0.0  \n",
              "4                            1553.0                                   0.0  \n",
              "\n",
              "[5 rows x 24 columns]"
            ],
            "text/html": [
              "\n",
              "  <div id=\"df-6641efd7-386a-4b5d-8048-17466af0a02a\" class=\"colab-df-container\">\n",
              "    <div>\n",
              "<style scoped>\n",
              "    .dataframe tbody tr th:only-of-type {\n",
              "        vertical-align: middle;\n",
              "    }\n",
              "\n",
              "    .dataframe tbody tr th {\n",
              "        vertical-align: top;\n",
              "    }\n",
              "\n",
              "    .dataframe thead th {\n",
              "        text-align: right;\n",
              "    }\n",
              "</style>\n",
              "<table border=\"1\" class=\"dataframe\">\n",
              "  <thead>\n",
              "    <tr style=\"text-align: right;\">\n",
              "      <th></th>\n",
              "      <th>Date</th>\n",
              "      <th>btc_market_price</th>\n",
              "      <th>btc_total_bitcoins</th>\n",
              "      <th>btc_market_cap</th>\n",
              "      <th>btc_trade_volume</th>\n",
              "      <th>btc_blocks_size</th>\n",
              "      <th>btc_avg_block_size</th>\n",
              "      <th>btc_n_orphaned_blocks</th>\n",
              "      <th>btc_n_transactions_per_block</th>\n",
              "      <th>btc_median_confirmation_time</th>\n",
              "      <th>...</th>\n",
              "      <th>btc_cost_per_transaction_percent</th>\n",
              "      <th>btc_cost_per_transaction</th>\n",
              "      <th>btc_n_unique_addresses</th>\n",
              "      <th>btc_n_transactions</th>\n",
              "      <th>btc_n_transactions_total</th>\n",
              "      <th>btc_n_transactions_excluding_popular</th>\n",
              "      <th>btc_n_transactions_excluding_chains_longer_than_100</th>\n",
              "      <th>btc_output_volume</th>\n",
              "      <th>btc_estimated_transaction_volume</th>\n",
              "      <th>btc_estimated_transaction_volume_usd</th>\n",
              "    </tr>\n",
              "  </thead>\n",
              "  <tbody>\n",
              "    <tr>\n",
              "      <th>0</th>\n",
              "      <td>2/17/2010 0:00</td>\n",
              "      <td>0.0</td>\n",
              "      <td>2043200.0</td>\n",
              "      <td>0.0</td>\n",
              "      <td>0.0</td>\n",
              "      <td>0.0</td>\n",
              "      <td>0.000235</td>\n",
              "      <td>0</td>\n",
              "      <td>1.0</td>\n",
              "      <td>0.0</td>\n",
              "      <td>...</td>\n",
              "      <td>31.781022</td>\n",
              "      <td>0.0</td>\n",
              "      <td>241</td>\n",
              "      <td>244</td>\n",
              "      <td>41240</td>\n",
              "      <td>244</td>\n",
              "      <td>244</td>\n",
              "      <td>65173.13</td>\n",
              "      <td>36500.0</td>\n",
              "      <td>0.0</td>\n",
              "    </tr>\n",
              "    <tr>\n",
              "      <th>1</th>\n",
              "      <td>2/18/2010 0:00</td>\n",
              "      <td>0.0</td>\n",
              "      <td>2054650.0</td>\n",
              "      <td>0.0</td>\n",
              "      <td>0.0</td>\n",
              "      <td>0.0</td>\n",
              "      <td>0.000241</td>\n",
              "      <td>0</td>\n",
              "      <td>1.0</td>\n",
              "      <td>0.0</td>\n",
              "      <td>...</td>\n",
              "      <td>154.463801</td>\n",
              "      <td>0.0</td>\n",
              "      <td>234</td>\n",
              "      <td>235</td>\n",
              "      <td>41475</td>\n",
              "      <td>235</td>\n",
              "      <td>235</td>\n",
              "      <td>18911.74</td>\n",
              "      <td>7413.0</td>\n",
              "      <td>0.0</td>\n",
              "    </tr>\n",
              "    <tr>\n",
              "      <th>2</th>\n",
              "      <td>2/19/2010 0:00</td>\n",
              "      <td>0.0</td>\n",
              "      <td>2063600.0</td>\n",
              "      <td>0.0</td>\n",
              "      <td>0.0</td>\n",
              "      <td>0.0</td>\n",
              "      <td>0.000228</td>\n",
              "      <td>0</td>\n",
              "      <td>1.0</td>\n",
              "      <td>0.0</td>\n",
              "      <td>...</td>\n",
              "      <td>1278.516635</td>\n",
              "      <td>0.0</td>\n",
              "      <td>185</td>\n",
              "      <td>183</td>\n",
              "      <td>41658</td>\n",
              "      <td>183</td>\n",
              "      <td>183</td>\n",
              "      <td>9749.98</td>\n",
              "      <td>700.0</td>\n",
              "      <td>0.0</td>\n",
              "    </tr>\n",
              "    <tr>\n",
              "      <th>3</th>\n",
              "      <td>2/20/2010 0:00</td>\n",
              "      <td>0.0</td>\n",
              "      <td>2074700.0</td>\n",
              "      <td>0.0</td>\n",
              "      <td>0.0</td>\n",
              "      <td>0.0</td>\n",
              "      <td>0.000218</td>\n",
              "      <td>0</td>\n",
              "      <td>1.0</td>\n",
              "      <td>0.0</td>\n",
              "      <td>...</td>\n",
              "      <td>22186.687990</td>\n",
              "      <td>0.0</td>\n",
              "      <td>224</td>\n",
              "      <td>224</td>\n",
              "      <td>41882</td>\n",
              "      <td>224</td>\n",
              "      <td>224</td>\n",
              "      <td>11150.03</td>\n",
              "      <td>50.0</td>\n",
              "      <td>0.0</td>\n",
              "    </tr>\n",
              "    <tr>\n",
              "      <th>4</th>\n",
              "      <td>2/21/2010 0:00</td>\n",
              "      <td>0.0</td>\n",
              "      <td>2085400.0</td>\n",
              "      <td>0.0</td>\n",
              "      <td>0.0</td>\n",
              "      <td>0.0</td>\n",
              "      <td>0.000234</td>\n",
              "      <td>0</td>\n",
              "      <td>1.0</td>\n",
              "      <td>0.0</td>\n",
              "      <td>...</td>\n",
              "      <td>689.179876</td>\n",
              "      <td>0.0</td>\n",
              "      <td>218</td>\n",
              "      <td>218</td>\n",
              "      <td>42100</td>\n",
              "      <td>218</td>\n",
              "      <td>218</td>\n",
              "      <td>12266.83</td>\n",
              "      <td>1553.0</td>\n",
              "      <td>0.0</td>\n",
              "    </tr>\n",
              "  </tbody>\n",
              "</table>\n",
              "<p>5 rows × 24 columns</p>\n",
              "</div>\n",
              "    <div class=\"colab-df-buttons\">\n",
              "\n",
              "  <div class=\"colab-df-container\">\n",
              "    <button class=\"colab-df-convert\" onclick=\"convertToInteractive('df-6641efd7-386a-4b5d-8048-17466af0a02a')\"\n",
              "            title=\"Convert this dataframe to an interactive table.\"\n",
              "            style=\"display:none;\">\n",
              "\n",
              "  <svg xmlns=\"http://www.w3.org/2000/svg\" height=\"24px\" viewBox=\"0 -960 960 960\">\n",
              "    <path d=\"M120-120v-720h720v720H120Zm60-500h600v-160H180v160Zm220 220h160v-160H400v160Zm0 220h160v-160H400v160ZM180-400h160v-160H180v160Zm440 0h160v-160H620v160ZM180-180h160v-160H180v160Zm440 0h160v-160H620v160Z\"/>\n",
              "  </svg>\n",
              "    </button>\n",
              "\n",
              "  <style>\n",
              "    .colab-df-container {\n",
              "      display:flex;\n",
              "      gap: 12px;\n",
              "    }\n",
              "\n",
              "    .colab-df-convert {\n",
              "      background-color: #E8F0FE;\n",
              "      border: none;\n",
              "      border-radius: 50%;\n",
              "      cursor: pointer;\n",
              "      display: none;\n",
              "      fill: #1967D2;\n",
              "      height: 32px;\n",
              "      padding: 0 0 0 0;\n",
              "      width: 32px;\n",
              "    }\n",
              "\n",
              "    .colab-df-convert:hover {\n",
              "      background-color: #E2EBFA;\n",
              "      box-shadow: 0px 1px 2px rgba(60, 64, 67, 0.3), 0px 1px 3px 1px rgba(60, 64, 67, 0.15);\n",
              "      fill: #174EA6;\n",
              "    }\n",
              "\n",
              "    .colab-df-buttons div {\n",
              "      margin-bottom: 4px;\n",
              "    }\n",
              "\n",
              "    [theme=dark] .colab-df-convert {\n",
              "      background-color: #3B4455;\n",
              "      fill: #D2E3FC;\n",
              "    }\n",
              "\n",
              "    [theme=dark] .colab-df-convert:hover {\n",
              "      background-color: #434B5C;\n",
              "      box-shadow: 0px 1px 3px 1px rgba(0, 0, 0, 0.15);\n",
              "      filter: drop-shadow(0px 1px 2px rgba(0, 0, 0, 0.3));\n",
              "      fill: #FFFFFF;\n",
              "    }\n",
              "  </style>\n",
              "\n",
              "    <script>\n",
              "      const buttonEl =\n",
              "        document.querySelector('#df-6641efd7-386a-4b5d-8048-17466af0a02a button.colab-df-convert');\n",
              "      buttonEl.style.display =\n",
              "        google.colab.kernel.accessAllowed ? 'block' : 'none';\n",
              "\n",
              "      async function convertToInteractive(key) {\n",
              "        const element = document.querySelector('#df-6641efd7-386a-4b5d-8048-17466af0a02a');\n",
              "        const dataTable =\n",
              "          await google.colab.kernel.invokeFunction('convertToInteractive',\n",
              "                                                    [key], {});\n",
              "        if (!dataTable) return;\n",
              "\n",
              "        const docLinkHtml = 'Like what you see? Visit the ' +\n",
              "          '<a target=\"_blank\" href=https://colab.research.google.com/notebooks/data_table.ipynb>data table notebook</a>'\n",
              "          + ' to learn more about interactive tables.';\n",
              "        element.innerHTML = '';\n",
              "        dataTable['output_type'] = 'display_data';\n",
              "        await google.colab.output.renderOutput(dataTable, element);\n",
              "        const docLink = document.createElement('div');\n",
              "        docLink.innerHTML = docLinkHtml;\n",
              "        element.appendChild(docLink);\n",
              "      }\n",
              "    </script>\n",
              "  </div>\n",
              "\n",
              "\n",
              "<div id=\"df-19e27158-23a0-4279-8a4e-a0043472bd74\">\n",
              "  <button class=\"colab-df-quickchart\" onclick=\"quickchart('df-19e27158-23a0-4279-8a4e-a0043472bd74')\"\n",
              "            title=\"Suggest charts\"\n",
              "            style=\"display:none;\">\n",
              "\n",
              "<svg xmlns=\"http://www.w3.org/2000/svg\" height=\"24px\"viewBox=\"0 0 24 24\"\n",
              "     width=\"24px\">\n",
              "    <g>\n",
              "        <path d=\"M19 3H5c-1.1 0-2 .9-2 2v14c0 1.1.9 2 2 2h14c1.1 0 2-.9 2-2V5c0-1.1-.9-2-2-2zM9 17H7v-7h2v7zm4 0h-2V7h2v10zm4 0h-2v-4h2v4z\"/>\n",
              "    </g>\n",
              "</svg>\n",
              "  </button>\n",
              "\n",
              "<style>\n",
              "  .colab-df-quickchart {\n",
              "      --bg-color: #E8F0FE;\n",
              "      --fill-color: #1967D2;\n",
              "      --hover-bg-color: #E2EBFA;\n",
              "      --hover-fill-color: #174EA6;\n",
              "      --disabled-fill-color: #AAA;\n",
              "      --disabled-bg-color: #DDD;\n",
              "  }\n",
              "\n",
              "  [theme=dark] .colab-df-quickchart {\n",
              "      --bg-color: #3B4455;\n",
              "      --fill-color: #D2E3FC;\n",
              "      --hover-bg-color: #434B5C;\n",
              "      --hover-fill-color: #FFFFFF;\n",
              "      --disabled-bg-color: #3B4455;\n",
              "      --disabled-fill-color: #666;\n",
              "  }\n",
              "\n",
              "  .colab-df-quickchart {\n",
              "    background-color: var(--bg-color);\n",
              "    border: none;\n",
              "    border-radius: 50%;\n",
              "    cursor: pointer;\n",
              "    display: none;\n",
              "    fill: var(--fill-color);\n",
              "    height: 32px;\n",
              "    padding: 0;\n",
              "    width: 32px;\n",
              "  }\n",
              "\n",
              "  .colab-df-quickchart:hover {\n",
              "    background-color: var(--hover-bg-color);\n",
              "    box-shadow: 0 1px 2px rgba(60, 64, 67, 0.3), 0 1px 3px 1px rgba(60, 64, 67, 0.15);\n",
              "    fill: var(--button-hover-fill-color);\n",
              "  }\n",
              "\n",
              "  .colab-df-quickchart-complete:disabled,\n",
              "  .colab-df-quickchart-complete:disabled:hover {\n",
              "    background-color: var(--disabled-bg-color);\n",
              "    fill: var(--disabled-fill-color);\n",
              "    box-shadow: none;\n",
              "  }\n",
              "\n",
              "  .colab-df-spinner {\n",
              "    border: 2px solid var(--fill-color);\n",
              "    border-color: transparent;\n",
              "    border-bottom-color: var(--fill-color);\n",
              "    animation:\n",
              "      spin 1s steps(1) infinite;\n",
              "  }\n",
              "\n",
              "  @keyframes spin {\n",
              "    0% {\n",
              "      border-color: transparent;\n",
              "      border-bottom-color: var(--fill-color);\n",
              "      border-left-color: var(--fill-color);\n",
              "    }\n",
              "    20% {\n",
              "      border-color: transparent;\n",
              "      border-left-color: var(--fill-color);\n",
              "      border-top-color: var(--fill-color);\n",
              "    }\n",
              "    30% {\n",
              "      border-color: transparent;\n",
              "      border-left-color: var(--fill-color);\n",
              "      border-top-color: var(--fill-color);\n",
              "      border-right-color: var(--fill-color);\n",
              "    }\n",
              "    40% {\n",
              "      border-color: transparent;\n",
              "      border-right-color: var(--fill-color);\n",
              "      border-top-color: var(--fill-color);\n",
              "    }\n",
              "    60% {\n",
              "      border-color: transparent;\n",
              "      border-right-color: var(--fill-color);\n",
              "    }\n",
              "    80% {\n",
              "      border-color: transparent;\n",
              "      border-right-color: var(--fill-color);\n",
              "      border-bottom-color: var(--fill-color);\n",
              "    }\n",
              "    90% {\n",
              "      border-color: transparent;\n",
              "      border-bottom-color: var(--fill-color);\n",
              "    }\n",
              "  }\n",
              "</style>\n",
              "\n",
              "  <script>\n",
              "    async function quickchart(key) {\n",
              "      const quickchartButtonEl =\n",
              "        document.querySelector('#' + key + ' button');\n",
              "      quickchartButtonEl.disabled = true;  // To prevent multiple clicks.\n",
              "      quickchartButtonEl.classList.add('colab-df-spinner');\n",
              "      try {\n",
              "        const charts = await google.colab.kernel.invokeFunction(\n",
              "            'suggestCharts', [key], {});\n",
              "      } catch (error) {\n",
              "        console.error('Error during call to suggestCharts:', error);\n",
              "      }\n",
              "      quickchartButtonEl.classList.remove('colab-df-spinner');\n",
              "      quickchartButtonEl.classList.add('colab-df-quickchart-complete');\n",
              "    }\n",
              "    (() => {\n",
              "      let quickchartButtonEl =\n",
              "        document.querySelector('#df-19e27158-23a0-4279-8a4e-a0043472bd74 button');\n",
              "      quickchartButtonEl.style.display =\n",
              "        google.colab.kernel.accessAllowed ? 'block' : 'none';\n",
              "    })();\n",
              "  </script>\n",
              "</div>\n",
              "\n",
              "    </div>\n",
              "  </div>\n"
            ],
            "application/vnd.google.colaboratory.intrinsic+json": {
              "type": "dataframe",
              "variable_name": "data"
            }
          },
          "metadata": {},
          "execution_count": 3
        }
      ]
    },
    {
      "cell_type": "code",
      "source": [
        "data.shape"
      ],
      "metadata": {
        "colab": {
          "base_uri": "https://localhost:8080/"
        },
        "id": "9kglrxecF1wu",
        "outputId": "ca88acfc-f0bd-4280-aa98-b1d171ce56dd"
      },
      "execution_count": null,
      "outputs": [
        {
          "output_type": "execute_result",
          "data": {
            "text/plain": [
              "(2906, 24)"
            ]
          },
          "metadata": {},
          "execution_count": 4
        }
      ]
    },
    {
      "cell_type": "code",
      "source": [
        "data.columns"
      ],
      "metadata": {
        "colab": {
          "base_uri": "https://localhost:8080/"
        },
        "id": "OBw0JmE4F44N",
        "outputId": "119f04af-ed87-467e-c334-d9d1eabff13e"
      },
      "execution_count": null,
      "outputs": [
        {
          "output_type": "execute_result",
          "data": {
            "text/plain": [
              "Index(['Date', 'btc_market_price', 'btc_total_bitcoins', 'btc_market_cap',\n",
              "       'btc_trade_volume', 'btc_blocks_size', 'btc_avg_block_size',\n",
              "       'btc_n_orphaned_blocks', 'btc_n_transactions_per_block',\n",
              "       'btc_median_confirmation_time', 'btc_hash_rate', 'btc_difficulty',\n",
              "       'btc_miners_revenue', 'btc_transaction_fees',\n",
              "       'btc_cost_per_transaction_percent', 'btc_cost_per_transaction',\n",
              "       'btc_n_unique_addresses', 'btc_n_transactions',\n",
              "       'btc_n_transactions_total', 'btc_n_transactions_excluding_popular',\n",
              "       'btc_n_transactions_excluding_chains_longer_than_100',\n",
              "       'btc_output_volume', 'btc_estimated_transaction_volume',\n",
              "       'btc_estimated_transaction_volume_usd'],\n",
              "      dtype='object')"
            ]
          },
          "metadata": {},
          "execution_count": 5
        }
      ]
    },
    {
      "cell_type": "code",
      "source": [
        "data.info()"
      ],
      "metadata": {
        "colab": {
          "base_uri": "https://localhost:8080/"
        },
        "id": "immz7kPDF7Rn",
        "outputId": "efb755bc-fce8-43a1-ad0b-02824b435c23"
      },
      "execution_count": null,
      "outputs": [
        {
          "output_type": "stream",
          "name": "stdout",
          "text": [
            "<class 'pandas.core.frame.DataFrame'>\n",
            "RangeIndex: 2906 entries, 0 to 2905\n",
            "Data columns (total 24 columns):\n",
            " #   Column                                               Non-Null Count  Dtype  \n",
            "---  ------                                               --------------  -----  \n",
            " 0   Date                                                 2906 non-null   object \n",
            " 1   btc_market_price                                     2906 non-null   float64\n",
            " 2   btc_total_bitcoins                                   2879 non-null   float64\n",
            " 3   btc_market_cap                                       2906 non-null   float64\n",
            " 4   btc_trade_volume                                     2885 non-null   float64\n",
            " 5   btc_blocks_size                                      2877 non-null   float64\n",
            " 6   btc_avg_block_size                                   2906 non-null   float64\n",
            " 7   btc_n_orphaned_blocks                                2906 non-null   int64  \n",
            " 8   btc_n_transactions_per_block                         2906 non-null   float64\n",
            " 9   btc_median_confirmation_time                         2894 non-null   float64\n",
            " 10  btc_hash_rate                                        2906 non-null   float64\n",
            " 11  btc_difficulty                                       2890 non-null   float64\n",
            " 12  btc_miners_revenue                                   2906 non-null   float64\n",
            " 13  btc_transaction_fees                                 2896 non-null   float64\n",
            " 14  btc_cost_per_transaction_percent                     2906 non-null   float64\n",
            " 15  btc_cost_per_transaction                             2906 non-null   float64\n",
            " 16  btc_n_unique_addresses                               2906 non-null   int64  \n",
            " 17  btc_n_transactions                                   2906 non-null   int64  \n",
            " 18  btc_n_transactions_total                             2906 non-null   int64  \n",
            " 19  btc_n_transactions_excluding_popular                 2906 non-null   int64  \n",
            " 20  btc_n_transactions_excluding_chains_longer_than_100  2906 non-null   int64  \n",
            " 21  btc_output_volume                                    2906 non-null   float64\n",
            " 22  btc_estimated_transaction_volume                     2906 non-null   float64\n",
            " 23  btc_estimated_transaction_volume_usd                 2906 non-null   float64\n",
            "dtypes: float64(17), int64(6), object(1)\n",
            "memory usage: 545.0+ KB\n"
          ]
        }
      ]
    },
    {
      "cell_type": "code",
      "source": [
        "data.describe()"
      ],
      "metadata": {
        "colab": {
          "base_uri": "https://localhost:8080/",
          "height": 349
        },
        "id": "YNiwdScEGAPh",
        "outputId": "38d662a6-9db9-4261-ad4c-d0a82e8d771f"
      },
      "execution_count": null,
      "outputs": [
        {
          "output_type": "execute_result",
          "data": {
            "text/plain": [
              "       btc_market_price  btc_total_bitcoins  btc_market_cap  btc_trade_volume  \\\n",
              "count       2906.000000        2.879000e+03    2.906000e+03      2.885000e+03   \n",
              "mean         839.104218        1.151138e+07    1.344255e+10      7.398381e+07   \n",
              "std         2304.972497        4.200024e+06    3.866150e+10      2.924228e+08   \n",
              "min            0.000000        2.043200e+06    0.000000e+00      0.000000e+00   \n",
              "25%            6.653465        8.485300e+06    5.363081e+07      2.916456e+05   \n",
              "50%          235.130000        1.243115e+07    3.346869e+09      1.001414e+07   \n",
              "75%          594.191164        1.520051e+07    8.075525e+09      2.834038e+07   \n",
              "max        19498.683330        1.683769e+07    3.265250e+11      5.352016e+09   \n",
              "\n",
              "       btc_blocks_size  btc_avg_block_size  btc_n_orphaned_blocks  \\\n",
              "count      2877.000000         2906.000000            2906.000000   \n",
              "mean      35505.502848            0.350366               0.364074   \n",
              "std       43618.633821            0.353168               0.842259   \n",
              "min           0.000000            0.000216               0.000000   \n",
              "25%         781.000000            0.024177               0.000000   \n",
              "50%       15183.000000            0.196022               0.000000   \n",
              "75%       58293.000000            0.676065               0.000000   \n",
              "max      154444.590300            1.110327               7.000000   \n",
              "\n",
              "       btc_n_transactions_per_block  btc_median_confirmation_time  \\\n",
              "count                   2906.000000                   2894.000000   \n",
              "mean                     671.673651                      7.501113   \n",
              "std                      689.561322                      4.974549   \n",
              "min                        1.000000                      0.000000   \n",
              "25%                       54.000000                      6.066667   \n",
              "50%                      375.000000                      7.916667   \n",
              "75%                     1232.995223                     10.208333   \n",
              "max                     2722.625000                     47.733333   \n",
              "\n",
              "       btc_hash_rate  ...  btc_cost_per_transaction_percent  \\\n",
              "count   2.906000e+03  ...                       2906.000000   \n",
              "mean    1.244070e+06  ...                         66.747821   \n",
              "std     2.924141e+06  ...                       1761.894646   \n",
              "min     2.250000e-05  ...                          0.136531   \n",
              "25%     1.160880e+01  ...                          1.181945   \n",
              "50%     2.176189e+04  ...                          2.493564   \n",
              "75%     1.035363e+06  ...                          5.915591   \n",
              "max     2.160975e+07  ...                      88571.428570   \n",
              "\n",
              "       btc_cost_per_transaction  btc_n_unique_addresses  btc_n_transactions  \\\n",
              "count               2906.000000            2.906000e+03         2906.000000   \n",
              "mean                  14.639125            1.937861e+05       102081.138334   \n",
              "std                   20.536083            2.089146e+05       103896.929350   \n",
              "min                    0.000000            1.100000e+02          118.000000   \n",
              "25%                    4.156470            1.675475e+04         8025.250000   \n",
              "50%                    7.822430            1.304450e+05        62337.000000   \n",
              "75%                   14.800589            3.603765e+05       190471.250000   \n",
              "max                  161.686071            1.072861e+06       490644.000000   \n",
              "\n",
              "       btc_n_transactions_total  btc_n_transactions_excluding_popular  \\\n",
              "count              2.906000e+03                           2906.000000   \n",
              "mean               6.844558e+07                          94348.852374   \n",
              "std                8.285341e+07                         103966.111763   \n",
              "min                4.124000e+04                            118.000000   \n",
              "25%                2.413376e+06                           6813.500000   \n",
              "50%                3.255271e+07                          53483.000000   \n",
              "75%                1.080663e+08                         185901.750000   \n",
              "max                2.966888e+08                         470650.000000   \n",
              "\n",
              "       btc_n_transactions_excluding_chains_longer_than_100  btc_output_volume  \\\n",
              "count                                        2906.000000         2.906000e+03   \n",
              "mean                                        63140.320028         1.566216e+06   \n",
              "std                                         69687.052174         2.278910e+06   \n",
              "min                                           118.000000         6.150000e+03   \n",
              "25%                                          6765.500000         4.901712e+05   \n",
              "50%                                         35283.500000         1.105205e+06   \n",
              "75%                                        113793.250000         2.031654e+06   \n",
              "max                                        318896.000000         4.599222e+07   \n",
              "\n",
              "       btc_estimated_transaction_volume  btc_estimated_transaction_volume_usd  \n",
              "count                      2.906000e+03                          2.906000e+03  \n",
              "mean                       2.036475e+05                          2.024338e+08  \n",
              "std                        2.682781e+05                          5.800513e+08  \n",
              "min                        7.000000e+00                          0.000000e+00  \n",
              "25%                        9.600325e+04                          9.581680e+05  \n",
              "50%                        1.784685e+05                          3.742576e+07  \n",
              "75%                        2.588046e+05                          1.312499e+08  \n",
              "max                        5.825066e+06                          5.760245e+09  \n",
              "\n",
              "[8 rows x 23 columns]"
            ],
            "text/html": [
              "\n",
              "  <div id=\"df-1c0bea82-1b51-445d-b05c-2267b76d9f95\" class=\"colab-df-container\">\n",
              "    <div>\n",
              "<style scoped>\n",
              "    .dataframe tbody tr th:only-of-type {\n",
              "        vertical-align: middle;\n",
              "    }\n",
              "\n",
              "    .dataframe tbody tr th {\n",
              "        vertical-align: top;\n",
              "    }\n",
              "\n",
              "    .dataframe thead th {\n",
              "        text-align: right;\n",
              "    }\n",
              "</style>\n",
              "<table border=\"1\" class=\"dataframe\">\n",
              "  <thead>\n",
              "    <tr style=\"text-align: right;\">\n",
              "      <th></th>\n",
              "      <th>btc_market_price</th>\n",
              "      <th>btc_total_bitcoins</th>\n",
              "      <th>btc_market_cap</th>\n",
              "      <th>btc_trade_volume</th>\n",
              "      <th>btc_blocks_size</th>\n",
              "      <th>btc_avg_block_size</th>\n",
              "      <th>btc_n_orphaned_blocks</th>\n",
              "      <th>btc_n_transactions_per_block</th>\n",
              "      <th>btc_median_confirmation_time</th>\n",
              "      <th>btc_hash_rate</th>\n",
              "      <th>...</th>\n",
              "      <th>btc_cost_per_transaction_percent</th>\n",
              "      <th>btc_cost_per_transaction</th>\n",
              "      <th>btc_n_unique_addresses</th>\n",
              "      <th>btc_n_transactions</th>\n",
              "      <th>btc_n_transactions_total</th>\n",
              "      <th>btc_n_transactions_excluding_popular</th>\n",
              "      <th>btc_n_transactions_excluding_chains_longer_than_100</th>\n",
              "      <th>btc_output_volume</th>\n",
              "      <th>btc_estimated_transaction_volume</th>\n",
              "      <th>btc_estimated_transaction_volume_usd</th>\n",
              "    </tr>\n",
              "  </thead>\n",
              "  <tbody>\n",
              "    <tr>\n",
              "      <th>count</th>\n",
              "      <td>2906.000000</td>\n",
              "      <td>2.879000e+03</td>\n",
              "      <td>2.906000e+03</td>\n",
              "      <td>2.885000e+03</td>\n",
              "      <td>2877.000000</td>\n",
              "      <td>2906.000000</td>\n",
              "      <td>2906.000000</td>\n",
              "      <td>2906.000000</td>\n",
              "      <td>2894.000000</td>\n",
              "      <td>2.906000e+03</td>\n",
              "      <td>...</td>\n",
              "      <td>2906.000000</td>\n",
              "      <td>2906.000000</td>\n",
              "      <td>2.906000e+03</td>\n",
              "      <td>2906.000000</td>\n",
              "      <td>2.906000e+03</td>\n",
              "      <td>2906.000000</td>\n",
              "      <td>2906.000000</td>\n",
              "      <td>2.906000e+03</td>\n",
              "      <td>2.906000e+03</td>\n",
              "      <td>2.906000e+03</td>\n",
              "    </tr>\n",
              "    <tr>\n",
              "      <th>mean</th>\n",
              "      <td>839.104218</td>\n",
              "      <td>1.151138e+07</td>\n",
              "      <td>1.344255e+10</td>\n",
              "      <td>7.398381e+07</td>\n",
              "      <td>35505.502848</td>\n",
              "      <td>0.350366</td>\n",
              "      <td>0.364074</td>\n",
              "      <td>671.673651</td>\n",
              "      <td>7.501113</td>\n",
              "      <td>1.244070e+06</td>\n",
              "      <td>...</td>\n",
              "      <td>66.747821</td>\n",
              "      <td>14.639125</td>\n",
              "      <td>1.937861e+05</td>\n",
              "      <td>102081.138334</td>\n",
              "      <td>6.844558e+07</td>\n",
              "      <td>94348.852374</td>\n",
              "      <td>63140.320028</td>\n",
              "      <td>1.566216e+06</td>\n",
              "      <td>2.036475e+05</td>\n",
              "      <td>2.024338e+08</td>\n",
              "    </tr>\n",
              "    <tr>\n",
              "      <th>std</th>\n",
              "      <td>2304.972497</td>\n",
              "      <td>4.200024e+06</td>\n",
              "      <td>3.866150e+10</td>\n",
              "      <td>2.924228e+08</td>\n",
              "      <td>43618.633821</td>\n",
              "      <td>0.353168</td>\n",
              "      <td>0.842259</td>\n",
              "      <td>689.561322</td>\n",
              "      <td>4.974549</td>\n",
              "      <td>2.924141e+06</td>\n",
              "      <td>...</td>\n",
              "      <td>1761.894646</td>\n",
              "      <td>20.536083</td>\n",
              "      <td>2.089146e+05</td>\n",
              "      <td>103896.929350</td>\n",
              "      <td>8.285341e+07</td>\n",
              "      <td>103966.111763</td>\n",
              "      <td>69687.052174</td>\n",
              "      <td>2.278910e+06</td>\n",
              "      <td>2.682781e+05</td>\n",
              "      <td>5.800513e+08</td>\n",
              "    </tr>\n",
              "    <tr>\n",
              "      <th>min</th>\n",
              "      <td>0.000000</td>\n",
              "      <td>2.043200e+06</td>\n",
              "      <td>0.000000e+00</td>\n",
              "      <td>0.000000e+00</td>\n",
              "      <td>0.000000</td>\n",
              "      <td>0.000216</td>\n",
              "      <td>0.000000</td>\n",
              "      <td>1.000000</td>\n",
              "      <td>0.000000</td>\n",
              "      <td>2.250000e-05</td>\n",
              "      <td>...</td>\n",
              "      <td>0.136531</td>\n",
              "      <td>0.000000</td>\n",
              "      <td>1.100000e+02</td>\n",
              "      <td>118.000000</td>\n",
              "      <td>4.124000e+04</td>\n",
              "      <td>118.000000</td>\n",
              "      <td>118.000000</td>\n",
              "      <td>6.150000e+03</td>\n",
              "      <td>7.000000e+00</td>\n",
              "      <td>0.000000e+00</td>\n",
              "    </tr>\n",
              "    <tr>\n",
              "      <th>25%</th>\n",
              "      <td>6.653465</td>\n",
              "      <td>8.485300e+06</td>\n",
              "      <td>5.363081e+07</td>\n",
              "      <td>2.916456e+05</td>\n",
              "      <td>781.000000</td>\n",
              "      <td>0.024177</td>\n",
              "      <td>0.000000</td>\n",
              "      <td>54.000000</td>\n",
              "      <td>6.066667</td>\n",
              "      <td>1.160880e+01</td>\n",
              "      <td>...</td>\n",
              "      <td>1.181945</td>\n",
              "      <td>4.156470</td>\n",
              "      <td>1.675475e+04</td>\n",
              "      <td>8025.250000</td>\n",
              "      <td>2.413376e+06</td>\n",
              "      <td>6813.500000</td>\n",
              "      <td>6765.500000</td>\n",
              "      <td>4.901712e+05</td>\n",
              "      <td>9.600325e+04</td>\n",
              "      <td>9.581680e+05</td>\n",
              "    </tr>\n",
              "    <tr>\n",
              "      <th>50%</th>\n",
              "      <td>235.130000</td>\n",
              "      <td>1.243115e+07</td>\n",
              "      <td>3.346869e+09</td>\n",
              "      <td>1.001414e+07</td>\n",
              "      <td>15183.000000</td>\n",
              "      <td>0.196022</td>\n",
              "      <td>0.000000</td>\n",
              "      <td>375.000000</td>\n",
              "      <td>7.916667</td>\n",
              "      <td>2.176189e+04</td>\n",
              "      <td>...</td>\n",
              "      <td>2.493564</td>\n",
              "      <td>7.822430</td>\n",
              "      <td>1.304450e+05</td>\n",
              "      <td>62337.000000</td>\n",
              "      <td>3.255271e+07</td>\n",
              "      <td>53483.000000</td>\n",
              "      <td>35283.500000</td>\n",
              "      <td>1.105205e+06</td>\n",
              "      <td>1.784685e+05</td>\n",
              "      <td>3.742576e+07</td>\n",
              "    </tr>\n",
              "    <tr>\n",
              "      <th>75%</th>\n",
              "      <td>594.191164</td>\n",
              "      <td>1.520051e+07</td>\n",
              "      <td>8.075525e+09</td>\n",
              "      <td>2.834038e+07</td>\n",
              "      <td>58293.000000</td>\n",
              "      <td>0.676065</td>\n",
              "      <td>0.000000</td>\n",
              "      <td>1232.995223</td>\n",
              "      <td>10.208333</td>\n",
              "      <td>1.035363e+06</td>\n",
              "      <td>...</td>\n",
              "      <td>5.915591</td>\n",
              "      <td>14.800589</td>\n",
              "      <td>3.603765e+05</td>\n",
              "      <td>190471.250000</td>\n",
              "      <td>1.080663e+08</td>\n",
              "      <td>185901.750000</td>\n",
              "      <td>113793.250000</td>\n",
              "      <td>2.031654e+06</td>\n",
              "      <td>2.588046e+05</td>\n",
              "      <td>1.312499e+08</td>\n",
              "    </tr>\n",
              "    <tr>\n",
              "      <th>max</th>\n",
              "      <td>19498.683330</td>\n",
              "      <td>1.683769e+07</td>\n",
              "      <td>3.265250e+11</td>\n",
              "      <td>5.352016e+09</td>\n",
              "      <td>154444.590300</td>\n",
              "      <td>1.110327</td>\n",
              "      <td>7.000000</td>\n",
              "      <td>2722.625000</td>\n",
              "      <td>47.733333</td>\n",
              "      <td>2.160975e+07</td>\n",
              "      <td>...</td>\n",
              "      <td>88571.428570</td>\n",
              "      <td>161.686071</td>\n",
              "      <td>1.072861e+06</td>\n",
              "      <td>490644.000000</td>\n",
              "      <td>2.966888e+08</td>\n",
              "      <td>470650.000000</td>\n",
              "      <td>318896.000000</td>\n",
              "      <td>4.599222e+07</td>\n",
              "      <td>5.825066e+06</td>\n",
              "      <td>5.760245e+09</td>\n",
              "    </tr>\n",
              "  </tbody>\n",
              "</table>\n",
              "<p>8 rows × 23 columns</p>\n",
              "</div>\n",
              "    <div class=\"colab-df-buttons\">\n",
              "\n",
              "  <div class=\"colab-df-container\">\n",
              "    <button class=\"colab-df-convert\" onclick=\"convertToInteractive('df-1c0bea82-1b51-445d-b05c-2267b76d9f95')\"\n",
              "            title=\"Convert this dataframe to an interactive table.\"\n",
              "            style=\"display:none;\">\n",
              "\n",
              "  <svg xmlns=\"http://www.w3.org/2000/svg\" height=\"24px\" viewBox=\"0 -960 960 960\">\n",
              "    <path d=\"M120-120v-720h720v720H120Zm60-500h600v-160H180v160Zm220 220h160v-160H400v160Zm0 220h160v-160H400v160ZM180-400h160v-160H180v160Zm440 0h160v-160H620v160ZM180-180h160v-160H180v160Zm440 0h160v-160H620v160Z\"/>\n",
              "  </svg>\n",
              "    </button>\n",
              "\n",
              "  <style>\n",
              "    .colab-df-container {\n",
              "      display:flex;\n",
              "      gap: 12px;\n",
              "    }\n",
              "\n",
              "    .colab-df-convert {\n",
              "      background-color: #E8F0FE;\n",
              "      border: none;\n",
              "      border-radius: 50%;\n",
              "      cursor: pointer;\n",
              "      display: none;\n",
              "      fill: #1967D2;\n",
              "      height: 32px;\n",
              "      padding: 0 0 0 0;\n",
              "      width: 32px;\n",
              "    }\n",
              "\n",
              "    .colab-df-convert:hover {\n",
              "      background-color: #E2EBFA;\n",
              "      box-shadow: 0px 1px 2px rgba(60, 64, 67, 0.3), 0px 1px 3px 1px rgba(60, 64, 67, 0.15);\n",
              "      fill: #174EA6;\n",
              "    }\n",
              "\n",
              "    .colab-df-buttons div {\n",
              "      margin-bottom: 4px;\n",
              "    }\n",
              "\n",
              "    [theme=dark] .colab-df-convert {\n",
              "      background-color: #3B4455;\n",
              "      fill: #D2E3FC;\n",
              "    }\n",
              "\n",
              "    [theme=dark] .colab-df-convert:hover {\n",
              "      background-color: #434B5C;\n",
              "      box-shadow: 0px 1px 3px 1px rgba(0, 0, 0, 0.15);\n",
              "      filter: drop-shadow(0px 1px 2px rgba(0, 0, 0, 0.3));\n",
              "      fill: #FFFFFF;\n",
              "    }\n",
              "  </style>\n",
              "\n",
              "    <script>\n",
              "      const buttonEl =\n",
              "        document.querySelector('#df-1c0bea82-1b51-445d-b05c-2267b76d9f95 button.colab-df-convert');\n",
              "      buttonEl.style.display =\n",
              "        google.colab.kernel.accessAllowed ? 'block' : 'none';\n",
              "\n",
              "      async function convertToInteractive(key) {\n",
              "        const element = document.querySelector('#df-1c0bea82-1b51-445d-b05c-2267b76d9f95');\n",
              "        const dataTable =\n",
              "          await google.colab.kernel.invokeFunction('convertToInteractive',\n",
              "                                                    [key], {});\n",
              "        if (!dataTable) return;\n",
              "\n",
              "        const docLinkHtml = 'Like what you see? Visit the ' +\n",
              "          '<a target=\"_blank\" href=https://colab.research.google.com/notebooks/data_table.ipynb>data table notebook</a>'\n",
              "          + ' to learn more about interactive tables.';\n",
              "        element.innerHTML = '';\n",
              "        dataTable['output_type'] = 'display_data';\n",
              "        await google.colab.output.renderOutput(dataTable, element);\n",
              "        const docLink = document.createElement('div');\n",
              "        docLink.innerHTML = docLinkHtml;\n",
              "        element.appendChild(docLink);\n",
              "      }\n",
              "    </script>\n",
              "  </div>\n",
              "\n",
              "\n",
              "<div id=\"df-439eef27-c1a1-4715-9cac-529970512671\">\n",
              "  <button class=\"colab-df-quickchart\" onclick=\"quickchart('df-439eef27-c1a1-4715-9cac-529970512671')\"\n",
              "            title=\"Suggest charts\"\n",
              "            style=\"display:none;\">\n",
              "\n",
              "<svg xmlns=\"http://www.w3.org/2000/svg\" height=\"24px\"viewBox=\"0 0 24 24\"\n",
              "     width=\"24px\">\n",
              "    <g>\n",
              "        <path d=\"M19 3H5c-1.1 0-2 .9-2 2v14c0 1.1.9 2 2 2h14c1.1 0 2-.9 2-2V5c0-1.1-.9-2-2-2zM9 17H7v-7h2v7zm4 0h-2V7h2v10zm4 0h-2v-4h2v4z\"/>\n",
              "    </g>\n",
              "</svg>\n",
              "  </button>\n",
              "\n",
              "<style>\n",
              "  .colab-df-quickchart {\n",
              "      --bg-color: #E8F0FE;\n",
              "      --fill-color: #1967D2;\n",
              "      --hover-bg-color: #E2EBFA;\n",
              "      --hover-fill-color: #174EA6;\n",
              "      --disabled-fill-color: #AAA;\n",
              "      --disabled-bg-color: #DDD;\n",
              "  }\n",
              "\n",
              "  [theme=dark] .colab-df-quickchart {\n",
              "      --bg-color: #3B4455;\n",
              "      --fill-color: #D2E3FC;\n",
              "      --hover-bg-color: #434B5C;\n",
              "      --hover-fill-color: #FFFFFF;\n",
              "      --disabled-bg-color: #3B4455;\n",
              "      --disabled-fill-color: #666;\n",
              "  }\n",
              "\n",
              "  .colab-df-quickchart {\n",
              "    background-color: var(--bg-color);\n",
              "    border: none;\n",
              "    border-radius: 50%;\n",
              "    cursor: pointer;\n",
              "    display: none;\n",
              "    fill: var(--fill-color);\n",
              "    height: 32px;\n",
              "    padding: 0;\n",
              "    width: 32px;\n",
              "  }\n",
              "\n",
              "  .colab-df-quickchart:hover {\n",
              "    background-color: var(--hover-bg-color);\n",
              "    box-shadow: 0 1px 2px rgba(60, 64, 67, 0.3), 0 1px 3px 1px rgba(60, 64, 67, 0.15);\n",
              "    fill: var(--button-hover-fill-color);\n",
              "  }\n",
              "\n",
              "  .colab-df-quickchart-complete:disabled,\n",
              "  .colab-df-quickchart-complete:disabled:hover {\n",
              "    background-color: var(--disabled-bg-color);\n",
              "    fill: var(--disabled-fill-color);\n",
              "    box-shadow: none;\n",
              "  }\n",
              "\n",
              "  .colab-df-spinner {\n",
              "    border: 2px solid var(--fill-color);\n",
              "    border-color: transparent;\n",
              "    border-bottom-color: var(--fill-color);\n",
              "    animation:\n",
              "      spin 1s steps(1) infinite;\n",
              "  }\n",
              "\n",
              "  @keyframes spin {\n",
              "    0% {\n",
              "      border-color: transparent;\n",
              "      border-bottom-color: var(--fill-color);\n",
              "      border-left-color: var(--fill-color);\n",
              "    }\n",
              "    20% {\n",
              "      border-color: transparent;\n",
              "      border-left-color: var(--fill-color);\n",
              "      border-top-color: var(--fill-color);\n",
              "    }\n",
              "    30% {\n",
              "      border-color: transparent;\n",
              "      border-left-color: var(--fill-color);\n",
              "      border-top-color: var(--fill-color);\n",
              "      border-right-color: var(--fill-color);\n",
              "    }\n",
              "    40% {\n",
              "      border-color: transparent;\n",
              "      border-right-color: var(--fill-color);\n",
              "      border-top-color: var(--fill-color);\n",
              "    }\n",
              "    60% {\n",
              "      border-color: transparent;\n",
              "      border-right-color: var(--fill-color);\n",
              "    }\n",
              "    80% {\n",
              "      border-color: transparent;\n",
              "      border-right-color: var(--fill-color);\n",
              "      border-bottom-color: var(--fill-color);\n",
              "    }\n",
              "    90% {\n",
              "      border-color: transparent;\n",
              "      border-bottom-color: var(--fill-color);\n",
              "    }\n",
              "  }\n",
              "</style>\n",
              "\n",
              "  <script>\n",
              "    async function quickchart(key) {\n",
              "      const quickchartButtonEl =\n",
              "        document.querySelector('#' + key + ' button');\n",
              "      quickchartButtonEl.disabled = true;  // To prevent multiple clicks.\n",
              "      quickchartButtonEl.classList.add('colab-df-spinner');\n",
              "      try {\n",
              "        const charts = await google.colab.kernel.invokeFunction(\n",
              "            'suggestCharts', [key], {});\n",
              "      } catch (error) {\n",
              "        console.error('Error during call to suggestCharts:', error);\n",
              "      }\n",
              "      quickchartButtonEl.classList.remove('colab-df-spinner');\n",
              "      quickchartButtonEl.classList.add('colab-df-quickchart-complete');\n",
              "    }\n",
              "    (() => {\n",
              "      let quickchartButtonEl =\n",
              "        document.querySelector('#df-439eef27-c1a1-4715-9cac-529970512671 button');\n",
              "      quickchartButtonEl.style.display =\n",
              "        google.colab.kernel.accessAllowed ? 'block' : 'none';\n",
              "    })();\n",
              "  </script>\n",
              "</div>\n",
              "\n",
              "    </div>\n",
              "  </div>\n"
            ],
            "application/vnd.google.colaboratory.intrinsic+json": {
              "type": "dataframe"
            }
          },
          "metadata": {},
          "execution_count": 7
        }
      ]
    },
    {
      "cell_type": "code",
      "source": [
        "num_missing = data.isnull().sum()\n",
        "num_missing[num_missing >0]"
      ],
      "metadata": {
        "colab": {
          "base_uri": "https://localhost:8080/"
        },
        "id": "aMQi4klsGEg8",
        "outputId": "b6f81555-1fa7-429c-ab4c-3717dd1ef412"
      },
      "execution_count": null,
      "outputs": [
        {
          "output_type": "execute_result",
          "data": {
            "text/plain": [
              "btc_total_bitcoins              27\n",
              "btc_trade_volume                21\n",
              "btc_blocks_size                 29\n",
              "btc_median_confirmation_time    12\n",
              "btc_difficulty                  16\n",
              "btc_transaction_fees            10\n",
              "dtype: int64"
            ]
          },
          "metadata": {},
          "execution_count": 8
        }
      ]
    },
    {
      "cell_type": "code",
      "source": [
        "import seaborn as sns\n",
        "import matplotlib.pyplot as plt\n",
        "fig, ax = plt.subplots(figsize=(8,4))\n",
        "sns.heatmap(data.isnull(),yticklabels=False,cbar=False,cmap='viridis')\n"
      ],
      "metadata": {
        "colab": {
          "base_uri": "https://localhost:8080/",
          "height": 751
        },
        "id": "oYED5lb0GJ06",
        "outputId": "f95e3de7-454e-49b6-db22-7a53dd3912e3"
      },
      "execution_count": null,
      "outputs": [
        {
          "output_type": "execute_result",
          "data": {
            "text/plain": [
              "<Axes: >"
            ]
          },
          "metadata": {},
          "execution_count": 10
        },
        {
          "output_type": "display_data",
          "data": {
            "text/plain": [
              "<Figure size 800x400 with 1 Axes>"
            ],
            "image/png": "[encoded data removed]"
          },
          "metadata": {}
        }
      ]
    },
    {
      "cell_type": "code",
      "source": [
        "fig, axes = plt.subplots(1, 3, figsize=(12, 4))\n",
        "\n",
        "axes[0].plot(data['btc_total_bitcoins'])\n",
        "axes[0].set_title(\"btc_total_bitcoins\")\n",
        "\n",
        "axes[1].plot(data['btc_trade_volume'])\n",
        "axes[1].set_title(\"btc_trade_volume\")\n",
        "\n",
        "axes[2].plot(data['btc_blocks_size'])\n",
        "axes[2].set_title(\"btc_blocks_size\")\n"
      ],
      "metadata": {
        "colab": {
          "base_uri": "https://localhost:8080/",
          "height": 408
        },
        "id": "mh4h8fP9GOtQ",
        "outputId": "c1111128-342d-4477-dd70-d528295d37f6"
      },
      "execution_count": null,
      "outputs": [
        {
          "output_type": "execute_result",
          "data": {
            "text/plain": [
              "Text(0.5, 1.0, 'btc_blocks_size')"
            ]
          },
          "metadata": {},
          "execution_count": 11
        },
        {
          "output_type": "display_data",
          "data": {
            "text/plain": [
              "<Figure size 1200x400 with 3 Axes>"
            ],
            "image/png": "[encoded data removed]"
          },
          "metadata": {}
        }
      ]
    },
    {
      "cell_type": "code",
      "source": [
        "fig, axes = plt.subplots(1, 3, figsize=(12, 4))\n",
        "\n",
        "axes[0].plot(data['btc_median_confirmation_time'])\n",
        "axes[0].set_title(\"btc_median_confirmation_time\")\n",
        "\n",
        "axes[1].plot(data['btc_difficulty'])\n",
        "axes[1].set_title(\"btc_difficulty\")\n",
        "\n",
        "axes[2].plot(data['btc_transaction_fees'])\n",
        "axes[2].set_title(\"btc_transaction_fees\")"
      ],
      "metadata": {
        "colab": {
          "base_uri": "https://localhost:8080/",
          "height": 408
        },
        "id": "KLfAl6MZGZ0C",
        "outputId": "53a72a72-a71f-4c82-888f-c9964e0ec374"
      },
      "execution_count": null,
      "outputs": [
        {
          "output_type": "execute_result",
          "data": {
            "text/plain": [
              "Text(0.5, 1.0, 'btc_transaction_fees')"
            ]
          },
          "metadata": {},
          "execution_count": 12
        },
        {
          "output_type": "display_data",
          "data": {
            "text/plain": [
              "<Figure size 1200x400 with 3 Axes>"
            ],
            "image/png": "[encoded data removed]"
          },
          "metadata": {}
        }
      ]
    },
    {
      "cell_type": "code",
      "source": [
        "data_new = data.fillna(method='ffill')"
      ],
      "metadata": {
        "id": "doUCnGOkGeWY"
      },
      "execution_count": null,
      "outputs": []
    },
    {
      "cell_type": "code",
      "source": [
        "from sklearn.preprocessing import MinMaxScaler\n",
        "scaler = MinMaxScaler()\n",
        "\n",
        "X = data_new.drop(['Date','btc_market_price'], axis =1)\n",
        "y = data_new['btc_market_price']\n",
        "\n",
        "#split data\n",
        "from sklearn.model_selection import train_test_split\n",
        "X_train_org, X_test_org, y_train, y_test = train_test_split(X,y, test_size = 0.2,random_state = 20)\n",
        "\n",
        "X_train = scaler.fit_transform(X_train_org)\n",
        "X_test = scaler.transform(X_test_org)"
      ],
      "metadata": {
        "id": "o_RLVIttGjg3"
      },
      "execution_count": null,
      "outputs": []
    },
    {
      "cell_type": "code",
      "source": [
        "from sklearn.model_selection import cross_val_score\n",
        "scores = {}\n",
        "cv_s= {}"
      ],
      "metadata": {
        "id": "EJ76sy71GnW9"
      },
      "execution_count": null,
      "outputs": []
    },
    {
      "cell_type": "code",
      "source": [
        "from sklearn.neighbors import KNeighborsRegressor\n",
        "training_accuracy = []\n",
        "test_accuracy = []\n",
        "neighbor_seetings = range(1,7)\n",
        "\n",
        "for x in neighbor_seetings:\n",
        "    knr = KNeighborsRegressor(n_neighbors = x)\n",
        "    knr.fit(X_train, y_train)\n",
        "    training_accuracy.append(knr.score(X_train, y_train))\n",
        "    test_accuracy.append(knr.score(X_test,y_test))\n",
        "\n",
        "# Show the relationship of accuarcy and n_neighbors\n",
        "plt.plot(neighbor_seetings, training_accuracy, label = 'training accuracy')\n",
        "plt.plot(neighbor_seetings, test_accuracy, label = 'test accuracy')\n",
        "plt.ylabel(\"Accuracy\")\n",
        "plt.xlabel('n_neighbors')\n",
        "plt.legend()\n"
      ],
      "metadata": {
        "colab": {
          "base_uri": "https://localhost:8080/",
          "height": 467
        },
        "id": "xoMche4iGsoH",
        "outputId": "02e65c39-225a-4505-9d89-d0f820f22970"
      },
      "execution_count": null,
      "outputs": [
        {
          "output_type": "execute_result",
          "data": {
            "text/plain": [
              "<matplotlib.legend.Legend at 0x78236b4c48b0>"
            ]
          },
          "metadata": {},
          "execution_count": 18
        },
        {
          "output_type": "display_data",
          "data": {
            "text/plain": [
              "<Figure size 640x480 with 1 Axes>"
            ],
            "image/png": "[encoded data removed]"
          },
          "metadata": {}
        }
      ]
    },
    {
      "cell_type": "code",
      "source": [
        "# The best n_neighbors is 3\n",
        "scores['K-neighbors regression'] = [training_accuracy[2],test_accuracy[2]]"
      ],
      "metadata": {
        "id": "uUDYV7SZGxD_"
      },
      "execution_count": null,
      "outputs": []
    },
    {
      "cell_type": "code",
      "source": [
        "# Cross Validation\n",
        "knr = KNeighborsRegressor(n_neighbors = 3)\n",
        "cv_scores = cross_val_score(knr, X_train, y_train,cv = 5)\n",
        "print('Cross-validation training scores (5-fold):', cv_scores)\n",
        "print('Mean cross-validation training score (5-fold): {:.3f}'.format(np.mean(cv_scores)))\n",
        "cv_test_scores = cross_val_score(knr, X_test, y_test,cv = 5)\n",
        "cv_s['K-neighbors regression']=[np.mean(cv_scores),np.mean(cv_test_scores)]"
      ],
      "metadata": {
        "colab": {
          "base_uri": "https://localhost:8080/"
        },
        "id": "9-VOMc_dG46w",
        "outputId": "7963716d-cf7b-48da-f4c5-7a9076f38ae5"
      },
      "execution_count": null,
      "outputs": [
        {
          "output_type": "stream",
          "name": "stdout",
          "text": [
            "Cross-validation training scores (5-fold): [0.98687909 0.98628578 0.99364222 0.99533167 0.99451667]\n",
            "Mean cross-validation training score (5-fold): 0.991\n"
          ]
        }
      ]
    },
    {
      "cell_type": "code",
      "source": [
        "# Alpha by default is 1.0\n",
        "from sklearn.linear_model import Ridge\n",
        "ridge = Ridge()\n",
        "ridge.fit(X_train, y_train)\n",
        "print('Train score: {}'.format(ridge.score(X_train, y_train)))\n",
        "print('Test score: {}'.format(ridge.score(X_test,y_test)))"
      ],
      "metadata": {
        "colab": {
          "base_uri": "https://localhost:8080/"
        },
        "id": "dE6UCN4SJ4MA",
        "outputId": "dd94c451-ec6d-4503-fa0e-1c539b745524"
      },
      "execution_count": null,
      "outputs": [
        {
          "output_type": "stream",
          "name": "stdout",
          "text": [
            "Train score: 0.9965559318373166\n",
            "Test score: 0.9943642875903984\n"
          ]
        }
      ]
    },
    {
      "cell_type": "code",
      "source": [
        "a =np.linspace(0.001,25,1000)\n",
        "training_accuracy = []\n",
        "test_accuracy = []\n",
        "for x in a:\n",
        "    ridge = Ridge(alpha = x)\n",
        "    ridge.fit(X_train, y_train)\n",
        "    training_accuracy.append(ridge.score(X_train, y_train))\n",
        "    test_accuracy.append(ridge.score(X_test,y_test))\n",
        "\n",
        "plt.plot(a, training_accuracy, label = 'training accuracy')\n",
        "plt.plot(a, test_accuracy, label = 'test accuracy')\n",
        "plt.ylabel(\"Scores\")\n",
        "plt.xlabel('alpha')\n",
        "plt.legend()"
      ],
      "metadata": {
        "colab": {
          "base_uri": "https://localhost:8080/",
          "height": 466
        },
        "id": "0MTB8RdAKHUG",
        "outputId": "b3e14cf2-2f8f-4d14-a8f9-9f1020bda277"
      },
      "execution_count": null,
      "outputs": [
        {
          "output_type": "execute_result",
          "data": {
            "text/plain": [
              "<matplotlib.legend.Legend at 0x7823689fe0e0>"
            ]
          },
          "metadata": {},
          "execution_count": 40
        },
        {
          "output_type": "display_data",
          "data": {
            "text/plain": [
              "<Figure size 640x480 with 1 Axes>"
            ],
            "image/png": "[encoded data removed]"
          },
          "metadata": {}
        }
      ]
    },
    {
      "cell_type": "code",
      "source": [
        "# Use GridSearchCV to find the best alpha\n",
        "from sklearn.model_selection import GridSearchCV\n",
        "\n",
        "ridge = Ridge()\n",
        "param_grid = {'alpha':[0.001,0.01, 0.1,1]}\n",
        "\n",
        "grid_search = GridSearchCV(ridge, param_grid, cv = 5)\n",
        "grid_search.fit(X_train, y_train)\n",
        "\n",
        "#use gridsearch to get the best parameters, alpha=0.001\n",
        "print('Best parameters{}'.format(grid_search.best_params_))\n",
        "print('Best score {:.2f}'.format(grid_search.best_score_))"
      ],
      "metadata": {
        "colab": {
          "base_uri": "https://localhost:8080/"
        },
        "id": "w8ht6jD_KHQs",
        "outputId": "f32a4728-2975-43ec-f3f9-521845d72487"
      },
      "execution_count": null,
      "outputs": [
        {
          "output_type": "stream",
          "name": "stdout",
          "text": [
            "Best parameters{'alpha': 0.001}\n",
            "Best score 1.00\n"
          ]
        }
      ]
    },
    {
      "cell_type": "code",
      "source": [
        "ridge = Ridge(alpha = 0.001)\n",
        "ridge.fit(X_train, y_train)\n",
        "scores['Ridge']=[ridge.score(X_train, y_train),ridge.score(X_test,y_test)]"
      ],
      "metadata": {
        "id": "zhmZ8cM_KG_5"
      },
      "execution_count": null,
      "outputs": []
    },
    {
      "cell_type": "code",
      "source": [
        "cv_scores = cross_val_score(ridge, X_train, y_train,cv = 5)\n",
        "print('Cross-validation training scores (5-fold):', cv_scores)\n",
        "print('Mean cross-validation training score (5-fold): {:.3f}'.format(np.mean(cv_scores)))\n",
        "cv_test_scores = cross_val_score(ridge, X_test, y_test,cv = 5)\n",
        "cv_s['Ridge']=[np.mean(cv_scores),np.mean(cv_test_scores)]"
      ],
      "metadata": {
        "colab": {
          "base_uri": "https://localhost:8080/"
        },
        "id": "HfPtxuqkKZvx",
        "outputId": "83ee893f-05f5-460a-d002-a754ece6697d"
      },
      "execution_count": null,
      "outputs": [
        {
          "output_type": "stream",
          "name": "stdout",
          "text": [
            "Cross-validation training scores (5-fold): [0.99994032 0.99995757 0.99995691 0.99994587 0.99995854]\n",
            "Mean cross-validation training score (5-fold): 1.000\n"
          ]
        }
      ]
    },
    {
      "cell_type": "code",
      "source": [
        "from sklearn.linear_model import Lasso\n",
        "\n",
        "lasso = Lasso(max_iter = 100000)\n",
        "lasso.fit(X_train, y_train)\n",
        "print('Train score: {}'.format(lasso.score(X_train, y_train)))\n",
        "print('Test score: {}'.format(lasso.score(X_test,y_test)))\n",
        "print('Number of features used: {}'.format(np.sum(lasso.coef_ != 0)))"
      ],
      "metadata": {
        "colab": {
          "base_uri": "https://localhost:8080/"
        },
        "id": "em9QkE6BJGJj",
        "outputId": "ba5e7acb-df5b-4bdb-b135-2c7137162314"
      },
      "execution_count": null,
      "outputs": [
        {
          "output_type": "stream",
          "name": "stdout",
          "text": [
            "Train score: 0.9998857497412654\n",
            "Test score: 0.9998914613577561\n",
            "Number of features used: 7\n"
          ]
        }
      ]
    },
    {
      "cell_type": "code",
      "source": [
        "a =np.linspace(0.001,0.5,100)\n",
        "training_accuracy = []\n",
        "test_accuracy = []\n",
        "f = []\n",
        "for x in a:\n",
        "    lasso = Lasso(alpha = x, max_iter = 100000)\n",
        "    lasso.fit(X_train, y_train)\n",
        "    training_accuracy.append(lasso.score(X_train, y_train))\n",
        "    test_accuracy.append(lasso.score(X_test,y_test))\n",
        "    f.append(np.sum(lasso.coef_!=0))\n",
        "plt.plot(a, training_accuracy, label = 'training accuracy')\n",
        "plt.plot(a, test_accuracy, label = 'test accuracy')\n",
        "plt.ylabel(\"Scores\")\n",
        "plt.xlabel('alpha')\n",
        "plt.legend()\n"
      ],
      "metadata": {
        "colab": {
          "base_uri": "https://localhost:8080/",
          "height": 482
        },
        "id": "i0evuVlIJHtQ",
        "outputId": "07cd374f-d118-4bff-b0d0-8ea2b7e8ea56"
      },
      "execution_count": null,
      "outputs": [
        {
          "output_type": "execute_result",
          "data": {
            "text/plain": [
              "<matplotlib.legend.Legend at 0x782368b3ad40>"
            ]
          },
          "metadata": {},
          "execution_count": 34
        },
        {
          "output_type": "display_data",
          "data": {
            "text/plain": [
              "<Figure size 640x480 with 1 Axes>"
            ],
            "image/png": "[encoded data removed]"
          },
          "metadata": {}
        }
      ]
    },
    {
      "cell_type": "code",
      "source": [
        "lasso = Lasso(max_iter = 100000)\n",
        "param_grid = {'alpha':[0.017, 0.02, 0.023, 0.026]}\n",
        "\n",
        "grid_search = GridSearchCV(lasso, param_grid, cv = 5)\n",
        "grid_search.fit(X_train, y_train)\n",
        "\n",
        "print('Best parameters{}'.format(grid_search.best_params_))\n",
        "print('Best score {}'.format(grid_search.best_score_))"
      ],
      "metadata": {
        "colab": {
          "base_uri": "https://localhost:8080/"
        },
        "id": "Lo598MQzKvI4",
        "outputId": "73b2fe12-d889-4b22-f915-352063191d4a"
      },
      "execution_count": null,
      "outputs": [
        {
          "output_type": "stream",
          "name": "stdout",
          "text": [
            "Best parameters{'alpha': 0.023}\n",
            "Best score 0.9999295558742451\n"
          ]
        }
      ]
    },
    {
      "cell_type": "code",
      "source": [],
      "metadata": {
        "id": "Rt2GJHn1Kuwb"
      },
      "execution_count": null,
      "outputs": []
    },
    {
      "cell_type": "code",
      "source": [
        "lasso = Lasso(alpha = 0.023,max_iter = 100000)\n",
        "lasso.fit(X_train, y_train)\n",
        "scores['Lasso']=[lasso.score(X_train, y_train),lasso.score(X_test,y_test)]\n"
      ],
      "metadata": {
        "id": "w7_JQmdbJQla"
      },
      "execution_count": null,
      "outputs": []
    },
    {
      "cell_type": "code",
      "source": [
        "# Cross Validation\n",
        "cv_scores = cross_val_score(lasso, X_train, y_train,cv = 5)\n",
        "print('Cross-validation training scores (5-fold):', cv_scores)\n",
        "print('Mean cross-validation training score (5-fold): {:.3f}'.format(np.mean(cv_scores)))\n",
        "cv_test_scores = cross_val_score(lasso, X_test, y_test,cv = 5)\n",
        "cv_s['Lasso']=[np.mean(cv_scores),np.mean(cv_test_scores)]\n"
      ],
      "metadata": {
        "colab": {
          "base_uri": "https://localhost:8080/"
        },
        "id": "bUhOwrlRJQh_",
        "outputId": "4d80914d-5510-4353-c960-9cbbff8f544e"
      },
      "execution_count": null,
      "outputs": [
        {
          "output_type": "stream",
          "name": "stdout",
          "text": [
            "Cross-validation training scores (5-fold): [0.9999232  0.99992983 0.99993671 0.99991814 0.9999399 ]\n",
            "Mean cross-validation training score (5-fold): 1.000\n"
          ]
        }
      ]
    },
    {
      "cell_type": "code",
      "source": [
        "from sklearn.linear_model import LinearRegression\n",
        "lr = LinearRegression()\n",
        "\n",
        "lr.fit(X_train, y_train)\n",
        "print('Train score: {}'.format(lr.score(X_train, y_train)))\n",
        "print('Test score: {}'.format(lr.score(X_test,y_test)))\n",
        "scores['LinearRegression']=[lr.score(X_train, y_train),lr.score(X_test,y_test)]"
      ],
      "metadata": {
        "colab": {
          "base_uri": "https://localhost:8080/"
        },
        "id": "EPvWPCbLG9aO",
        "outputId": "6e3b9935-1c6d-4885-c2ee-80d0b00e50b3"
      },
      "execution_count": null,
      "outputs": [
        {
          "output_type": "stream",
          "name": "stdout",
          "text": [
            "Train score: 0.9999556586937504\n",
            "Test score: 0.999964899154559\n"
          ]
        }
      ]
    },
    {
      "cell_type": "code",
      "source": [
        "# Cross Validation\n",
        "cv_scores = cross_val_score(lr, X_train, y_train,cv = 5)\n",
        "print('Cross-validation training scores (5-fold):', cv_scores)\n",
        "print('Mean cross-validation training score (5-fold): {:.3f}'.format(np.mean(cv_scores)))\n",
        "cv_test_scores = cross_val_score(lr, X_test, y_test,cv = 5)\n",
        "cv_s['LinearRegression']=[np.mean(cv_scores),np.mean(cv_test_scores)]"
      ],
      "metadata": {
        "colab": {
          "base_uri": "https://localhost:8080/"
        },
        "id": "sn2O48v5HBoi",
        "outputId": "5d158d5e-5a3d-404e-e210-1c9be4a588cf"
      },
      "execution_count": null,
      "outputs": [
        {
          "output_type": "stream",
          "name": "stdout",
          "text": [
            "Cross-validation training scores (5-fold): [0.99994144 0.99995913 0.99995868 0.99994664 0.99995757]\n",
            "Mean cross-validation training score (5-fold): 1.000\n"
          ]
        }
      ]
    },
    {
      "cell_type": "code",
      "source": [
        "from sklearn.preprocessing import PolynomialFeatures"
      ],
      "metadata": {
        "id": "VRCfkgk9HE0X"
      },
      "execution_count": null,
      "outputs": []
    },
    {
      "cell_type": "code",
      "source": [
        "poly = PolynomialFeatures(degree=2)\n",
        "X_poly = poly.fit_transform(X)\n",
        "X_train_py, X_test_py, y_train, y_test = train_test_split(X_poly, y, test_size = 0.2, random_state = 20)\n",
        "\n",
        "linreg = LinearRegression()\n",
        "linreg.fit(X_train_py, y_train)\n",
        "print('Polynomial LinearRegression')\n",
        "print('Train score: {}'.format(linreg.score(X_train_py, y_train)))\n",
        "print('Test score: {}\\n'.format(linreg.score(X_test_py,y_test)))\n",
        "scores['Polynomial deg 2 LinearRegression']=[linreg.score(X_train_py, y_train),linreg.score(X_test_py,y_test)]\n",
        "\n",
        "linridge = Ridge()\n",
        "linridge.fit(X_train_py, y_train)\n",
        "print('Polynomial Ridge Regression')\n",
        "print('Train score: {}'.format(linridge.score(X_train_py, y_train)))\n",
        "print('Test score: {}\\n'.format(linridge.score(X_test_py,y_test)))\n",
        "scores['Polynomial deg 2 Ridge Regression']=[linridge.score(X_train_py, y_train),linridge.score(X_test_py,y_test)]\n",
        "\n",
        "linlasso = Lasso()\n",
        "linlasso.fit(X_train_py, y_train)\n",
        "print('Polynomial Lasso Regression')\n",
        "print('Train score: {}'.format(linlasso.score(X_train_py, y_train)))\n",
        "print('Test score: {}'.format(linlasso.score(X_test_py,y_test)))\n",
        "scores['Polynomial deg 2 Lasso Regression']=[linlasso.score(X_train_py, y_train),linlasso.score(X_test_py,y_test)]\n"
      ],
      "metadata": {
        "colab": {
          "base_uri": "https://localhost:8080/"
        },
        "id": "ErcfYkKqHLxv",
        "outputId": "9096c8f7-6d88-464e-af52-812b61fd551e"
      },
      "execution_count": null,
      "outputs": [
        {
          "output_type": "stream",
          "name": "stdout",
          "text": [
            "Polynomial LinearRegression\n",
            "Train score: 0.9999877482832659\n",
            "Test score: 0.999945743641954\n",
            "\n",
            "Polynomial Ridge Regression\n",
            "Train score: 0.9999751679535477\n",
            "Test score: 0.9999448427914078\n",
            "\n",
            "Polynomial Lasso Regression\n",
            "Train score: 0.9999867023539635\n",
            "Test score: 0.999974112132333\n"
          ]
        }
      ]
    },
    {
      "cell_type": "code",
      "source": [
        "cv_scores = cross_val_score(linreg, X_train_py, y_train,cv = 5)\n",
        "print('Cross-validation training scores (5-fold):', cv_scores)\n",
        "print('Mean cross-validation training score (5-fold): {:.3f}'.format(np.mean(cv_scores)))\n",
        "cv_test_scores = cross_val_score(linreg, X_test_py, y_test,cv = 5)\n",
        "cv_s['Polynomial deg 2 LinearRegression']=[np.mean(cv_scores),np.mean(cv_test_scores)]\n",
        "\n"
      ],
      "metadata": {
        "colab": {
          "base_uri": "https://localhost:8080/"
        },
        "id": "FanHN9KOHVcs",
        "outputId": "e1107974-dc2f-46cc-f144-ff15cb86a4de"
      },
      "execution_count": null,
      "outputs": [
        {
          "output_type": "stream",
          "name": "stdout",
          "text": [
            "Cross-validation training scores (5-fold): [0.99997536 0.99997252 0.9999708  0.99993429 0.99991266]\n",
            "Mean cross-validation training score (5-fold): 1.000\n"
          ]
        }
      ]
    },
    {
      "cell_type": "code",
      "source": [],
      "metadata": {
        "id": "A4rD8UIBHe4B"
      },
      "execution_count": null,
      "outputs": []
    },
    {
      "cell_type": "markdown",
      "source": [
        "svm\n"
      ],
      "metadata": {
        "id": "8Pro0zD_HmSr"
      }
    },
    {
      "cell_type": "code",
      "source": [
        "from sklearn.svm import SVR\n",
        "# SVM, with kernel: (linear)\n",
        "svr = SVR(kernel = 'linear')\n",
        "svr.fit(X_train, y_train)\n",
        "print('Train score: {}'.format(svr.score(X_train, y_train)))\n",
        "print('Test score: {}\\n'.format(svr.score(X_test,y_test)))\n",
        "scores['SVM']=[svr.score(X_train, y_train),svr.score(X_test,y_test)]"
      ],
      "metadata": {
        "colab": {
          "base_uri": "https://localhost:8080/"
        },
        "id": "HMHZ9DmnHno2",
        "outputId": "005b22aa-ef19-4256-e120-6b5536c74b96"
      },
      "execution_count": null,
      "outputs": [
        {
          "output_type": "stream",
          "name": "stdout",
          "text": [
            "Train score: 0.1366138285955656\n",
            "Test score: 0.13142701474512852\n",
            "\n"
          ]
        }
      ]
    },
    {
      "cell_type": "code",
      "source": [
        "cv_scores = cross_val_score(svr, X_train, y_train,cv = 5)\n",
        "print('Cross-validation training scores (5-fold):', cv_scores)\n",
        "print('Mean cross-validation training score (5-fold): {:.3f}'.format(np.mean(cv_scores)))\n",
        "cv_test_scores = cross_val_score(svr, X_test, y_test,cv = 5)\n",
        "cv_s['SVM']=[np.mean(cv_scores),np.mean(cv_test_scores)]"
      ],
      "metadata": {
        "colab": {
          "base_uri": "https://localhost:8080/"
        },
        "id": "GT5XyMA-HoY_",
        "outputId": "1ba3d56b-d1ea-428f-e45f-5f2909541373"
      },
      "execution_count": null,
      "outputs": [
        {
          "output_type": "stream",
          "name": "stdout",
          "text": [
            "Cross-validation training scores (5-fold): [0.12816375 0.11722022 0.121453   0.13193386 0.10290388]\n",
            "Mean cross-validation training score (5-fold): 0.120\n"
          ]
        }
      ]
    },
    {
      "cell_type": "code",
      "source": [
        "# SVR without kernel\n",
        "from sklearn.svm import LinearSVR\n",
        "lsvr = LinearSVR()\n",
        "lsvr.fit(X_train, y_train)\n",
        "print('Train score: {}'.format(lsvr.score(X_train, y_train)))\n",
        "print('Test score: {}\\n'.format(lsvr.score(X_test,y_test)))\n",
        "scores['SVM without kernel']=[lsvr.score(X_train, y_train),lsvr.score(X_test,y_test)]"
      ],
      "metadata": {
        "colab": {
          "base_uri": "https://localhost:8080/"
        },
        "id": "v95ERUOqHvMt",
        "outputId": "37f35db8-365c-4924-c105-0c23daf01111"
      },
      "execution_count": null,
      "outputs": [
        {
          "output_type": "stream",
          "name": "stdout",
          "text": [
            "Train score: 0.13664160024805005\n",
            "Test score: 0.13145749697759723\n",
            "\n"
          ]
        }
      ]
    },
    {
      "cell_type": "code",
      "source": [
        "cv_scores = cross_val_score(lsvr, X_train, y_train,cv = 5)\n",
        "print('Cross-validation training scores (5-fold):', cv_scores)\n",
        "print('Mean cross-validation training score (5-fold): {:.3f}'.format(np.mean(cv_scores)))\n",
        "cv_test_scores = cross_val_score(lsvr, X_test, y_test,cv = 5)\n",
        "cv_s['SVM without kernel']=[np.mean(cv_scores),np.mean(cv_test_scores)]\n"
      ],
      "metadata": {
        "colab": {
          "base_uri": "https://localhost:8080/"
        },
        "id": "oa2EnNDtHz_f",
        "outputId": "a43d137a-dfce-4971-bc06-eab2c5491456"
      },
      "execution_count": null,
      "outputs": [
        {
          "output_type": "stream",
          "name": "stdout",
          "text": [
            "Cross-validation training scores (5-fold): [0.12835465 0.11680058 0.1212534  0.13181089 0.10343208]\n",
            "Mean cross-validation training score (5-fold): 0.120\n"
          ]
        }
      ]
    },
    {
      "cell_type": "code",
      "source": [
        "df = pd.DataFrame(scores).T\n",
        "df.columns = ['Train Score','Test Score']\n",
        "df = pd.concat([df,pd.DataFrame(cv_s,index = [['Cross_Validation_Train_Score','Cross_Validation_Test_Score']]).T],axis=1, join='inner')\n",
        "df"
      ],
      "metadata": {
        "colab": {
          "base_uri": "https://localhost:8080/",
          "height": 269
        },
        "id": "jxBU7dHOH9Wx",
        "outputId": "b5f1918a-16d4-4e00-e329-4f56f340b239"
      },
      "execution_count": null,
      "outputs": [
        {
          "output_type": "execute_result",
          "data": {
            "text/plain": [
              "                                   Train Score  Test Score  \\\n",
              "K-neighbors regression                0.996492    0.996019   \n",
              "LinearRegression                      0.999956    0.999965   \n",
              "Polynomial deg 2 LinearRegression     0.999988    0.999946   \n",
              "SVM                                   0.136614    0.131427   \n",
              "SVM without kernel                    0.136642    0.131457   \n",
              "Lasso                                 0.999933    0.999940   \n",
              "Ridge                                 0.999955    0.999963   \n",
              "\n",
              "                                   (Cross_Validation_Train_Score,)  \\\n",
              "K-neighbors regression                                    0.991331   \n",
              "LinearRegression                                          0.999953   \n",
              "Polynomial deg 2 LinearRegression                         0.999953   \n",
              "SVM                                                       0.120335   \n",
              "SVM without kernel                                        0.120330   \n",
              "Lasso                                                     0.999930   \n",
              "Ridge                                                     0.999952   \n",
              "\n",
              "                                   (Cross_Validation_Test_Score,)  \n",
              "K-neighbors regression                                   0.978376  \n",
              "LinearRegression                                         0.999957  \n",
              "Polynomial deg 2 LinearRegression                        0.988313  \n",
              "SVM                                                      0.025699  \n",
              "SVM without kernel                                       0.025841  \n",
              "Lasso                                                    0.999923  \n",
              "Ridge                                                    0.999940  "
            ],
            "text/html": [
              "\n",
              "  <div id=\"df-cc1a699b-0f0a-4d50-8f43-585de7951594\" class=\"colab-df-container\">\n",
              "    <div>\n",
              "<style scoped>\n",
              "    .dataframe tbody tr th:only-of-type {\n",
              "        vertical-align: middle;\n",
              "    }\n",
              "\n",
              "    .dataframe tbody tr th {\n",
              "        vertical-align: top;\n",
              "    }\n",
              "\n",
              "    .dataframe thead th {\n",
              "        text-align: right;\n",
              "    }\n",
              "</style>\n",
              "<table border=\"1\" class=\"dataframe\">\n",
              "  <thead>\n",
              "    <tr style=\"text-align: right;\">\n",
              "      <th></th>\n",
              "      <th>Train Score</th>\n",
              "      <th>Test Score</th>\n",
              "      <th>(Cross_Validation_Train_Score,)</th>\n",
              "      <th>(Cross_Validation_Test_Score,)</th>\n",
              "    </tr>\n",
              "  </thead>\n",
              "  <tbody>\n",
              "    <tr>\n",
              "      <th>K-neighbors regression</th>\n",
              "      <td>0.996492</td>\n",
              "      <td>0.996019</td>\n",
              "      <td>0.991331</td>\n",
              "      <td>0.978376</td>\n",
              "    </tr>\n",
              "    <tr>\n",
              "      <th>LinearRegression</th>\n",
              "      <td>0.999956</td>\n",
              "      <td>0.999965</td>\n",
              "      <td>0.999953</td>\n",
              "      <td>0.999957</td>\n",
              "    </tr>\n",
              "    <tr>\n",
              "      <th>Polynomial deg 2 LinearRegression</th>\n",
              "      <td>0.999988</td>\n",
              "      <td>0.999946</td>\n",
              "      <td>0.999953</td>\n",
              "      <td>0.988313</td>\n",
              "    </tr>\n",
              "    <tr>\n",
              "      <th>SVM</th>\n",
              "      <td>0.136614</td>\n",
              "      <td>0.131427</td>\n",
              "      <td>0.120335</td>\n",
              "      <td>0.025699</td>\n",
              "    </tr>\n",
              "    <tr>\n",
              "      <th>SVM without kernel</th>\n",
              "      <td>0.136642</td>\n",
              "      <td>0.131457</td>\n",
              "      <td>0.120330</td>\n",
              "      <td>0.025841</td>\n",
              "    </tr>\n",
              "    <tr>\n",
              "      <th>Lasso</th>\n",
              "      <td>0.999933</td>\n",
              "      <td>0.999940</td>\n",
              "      <td>0.999930</td>\n",
              "      <td>0.999923</td>\n",
              "    </tr>\n",
              "    <tr>\n",
              "      <th>Ridge</th>\n",
              "      <td>0.999955</td>\n",
              "      <td>0.999963</td>\n",
              "      <td>0.999952</td>\n",
              "      <td>0.999940</td>\n",
              "    </tr>\n",
              "  </tbody>\n",
              "</table>\n",
              "</div>\n",
              "    <div class=\"colab-df-buttons\">\n",
              "\n",
              "  <div class=\"colab-df-container\">\n",
              "    <button class=\"colab-df-convert\" onclick=\"convertToInteractive('df-cc1a699b-0f0a-4d50-8f43-585de7951594')\"\n",
              "            title=\"Convert this dataframe to an interactive table.\"\n",
              "            style=\"display:none;\">\n",
              "\n",
              "  <svg xmlns=\"http://www.w3.org/2000/svg\" height=\"24px\" viewBox=\"0 -960 960 960\">\n",
              "    <path d=\"M120-120v-720h720v720H120Zm60-500h600v-160H180v160Zm220 220h160v-160H400v160Zm0 220h160v-160H400v160ZM180-400h160v-160H180v160Zm440 0h160v-160H620v160ZM180-180h160v-160H180v160Zm440 0h160v-160H620v160Z\"/>\n",
              "  </svg>\n",
              "    </button>\n",
              "\n",
              "  <style>\n",
              "    .colab-df-container {\n",
              "      display:flex;\n",
              "      gap: 12px;\n",
              "    }\n",
              "\n",
              "    .colab-df-convert {\n",
              "      background-color: #E8F0FE;\n",
              "      border: none;\n",
              "      border-radius: 50%;\n",
              "      cursor: pointer;\n",
              "      display: none;\n",
              "      fill: #1967D2;\n",
              "      height: 32px;\n",
              "      padding: 0 0 0 0;\n",
              "      width: 32px;\n",
              "    }\n",
              "\n",
              "    .colab-df-convert:hover {\n",
              "      background-color: #E2EBFA;\n",
              "      box-shadow: 0px 1px 2px rgba(60, 64, 67, 0.3), 0px 1px 3px 1px rgba(60, 64, 67, 0.15);\n",
              "      fill: #174EA6;\n",
              "    }\n",
              "\n",
              "    .colab-df-buttons div {\n",
              "      margin-bottom: 4px;\n",
              "    }\n",
              "\n",
              "    [theme=dark] .colab-df-convert {\n",
              "      background-color: #3B4455;\n",
              "      fill: #D2E3FC;\n",
              "    }\n",
              "\n",
              "    [theme=dark] .colab-df-convert:hover {\n",
              "      background-color: #434B5C;\n",
              "      box-shadow: 0px 1px 3px 1px rgba(0, 0, 0, 0.15);\n",
              "      filter: drop-shadow(0px 1px 2px rgba(0, 0, 0, 0.3));\n",
              "      fill: #FFFFFF;\n",
              "    }\n",
              "  </style>\n",
              "\n",
              "    <script>\n",
              "      const buttonEl =\n",
              "        document.querySelector('#df-cc1a699b-0f0a-4d50-8f43-585de7951594 button.colab-df-convert');\n",
              "      buttonEl.style.display =\n",
              "        google.colab.kernel.accessAllowed ? 'block' : 'none';\n",
              "\n",
              "      async function convertToInteractive(key) {\n",
              "        const element = document.querySelector('#df-cc1a699b-0f0a-4d50-8f43-585de7951594');\n",
              "        const dataTable =\n",
              "          await google.colab.kernel.invokeFunction('convertToInteractive',\n",
              "                                                    [key], {});\n",
              "        if (!dataTable) return;\n",
              "\n",
              "        const docLinkHtml = 'Like what you see? Visit the ' +\n",
              "          '<a target=\"_blank\" href=https://colab.research.google.com/notebooks/data_table.ipynb>data table notebook</a>'\n",
              "          + ' to learn more about interactive tables.';\n",
              "        element.innerHTML = '';\n",
              "        dataTable['output_type'] = 'display_data';\n",
              "        await google.colab.output.renderOutput(dataTable, element);\n",
              "        const docLink = document.createElement('div');\n",
              "        docLink.innerHTML = docLinkHtml;\n",
              "        element.appendChild(docLink);\n",
              "      }\n",
              "    </script>\n",
              "  </div>\n",
              "\n",
              "\n",
              "<div id=\"df-56244e6b-dcd3-4651-a16c-d750c0d8aac7\">\n",
              "  <button class=\"colab-df-quickchart\" onclick=\"quickchart('df-56244e6b-dcd3-4651-a16c-d750c0d8aac7')\"\n",
              "            title=\"Suggest charts\"\n",
              "            style=\"display:none;\">\n",
              "\n",
              "<svg xmlns=\"http://www.w3.org/2000/svg\" height=\"24px\"viewBox=\"0 0 24 24\"\n",
              "     width=\"24px\">\n",
              "    <g>\n",
              "        <path d=\"M19 3H5c-1.1 0-2 .9-2 2v14c0 1.1.9 2 2 2h14c1.1 0 2-.9 2-2V5c0-1.1-.9-2-2-2zM9 17H7v-7h2v7zm4 0h-2V7h2v10zm4 0h-2v-4h2v4z\"/>\n",
              "    </g>\n",
              "</svg>\n",
              "  </button>\n",
              "\n",
              "<style>\n",
              "  .colab-df-quickchart {\n",
              "      --bg-color: #E8F0FE;\n",
              "      --fill-color: #1967D2;\n",
              "      --hover-bg-color: #E2EBFA;\n",
              "      --hover-fill-color: #174EA6;\n",
              "      --disabled-fill-color: #AAA;\n",
              "      --disabled-bg-color: #DDD;\n",
              "  }\n",
              "\n",
              "  [theme=dark] .colab-df-quickchart {\n",
              "      --bg-color: #3B4455;\n",
              "      --fill-color: #D2E3FC;\n",
              "      --hover-bg-color: #434B5C;\n",
              "      --hover-fill-color: #FFFFFF;\n",
              "      --disabled-bg-color: #3B4455;\n",
              "      --disabled-fill-color: #666;\n",
              "  }\n",
              "\n",
              "  .colab-df-quickchart {\n",
              "    background-color: var(--bg-color);\n",
              "    border: none;\n",
              "    border-radius: 50%;\n",
              "    cursor: pointer;\n",
              "    display: none;\n",
              "    fill: var(--fill-color);\n",
              "    height: 32px;\n",
              "    padding: 0;\n",
              "    width: 32px;\n",
              "  }\n",
              "\n",
              "  .colab-df-quickchart:hover {\n",
              "    background-color: var(--hover-bg-color);\n",
              "    box-shadow: 0 1px 2px rgba(60, 64, 67, 0.3), 0 1px 3px 1px rgba(60, 64, 67, 0.15);\n",
              "    fill: var(--button-hover-fill-color);\n",
              "  }\n",
              "\n",
              "  .colab-df-quickchart-complete:disabled,\n",
              "  .colab-df-quickchart-complete:disabled:hover {\n",
              "    background-color: var(--disabled-bg-color);\n",
              "    fill: var(--disabled-fill-color);\n",
              "    box-shadow: none;\n",
              "  }\n",
              "\n",
              "  .colab-df-spinner {\n",
              "    border: 2px solid var(--fill-color);\n",
              "    border-color: transparent;\n",
              "    border-bottom-color: var(--fill-color);\n",
              "    animation:\n",
              "      spin 1s steps(1) infinite;\n",
              "  }\n",
              "\n",
              "  @keyframes spin {\n",
              "    0% {\n",
              "      border-color: transparent;\n",
              "      border-bottom-color: var(--fill-color);\n",
              "      border-left-color: var(--fill-color);\n",
              "    }\n",
              "    20% {\n",
              "      border-color: transparent;\n",
              "      border-left-color: var(--fill-color);\n",
              "      border-top-color: var(--fill-color);\n",
              "    }\n",
              "    30% {\n",
              "      border-color: transparent;\n",
              "      border-left-color: var(--fill-color);\n",
              "      border-top-color: var(--fill-color);\n",
              "      border-right-color: var(--fill-color);\n",
              "    }\n",
              "    40% {\n",
              "      border-color: transparent;\n",
              "      border-right-color: var(--fill-color);\n",
              "      border-top-color: var(--fill-color);\n",
              "    }\n",
              "    60% {\n",
              "      border-color: transparent;\n",
              "      border-right-color: var(--fill-color);\n",
              "    }\n",
              "    80% {\n",
              "      border-color: transparent;\n",
              "      border-right-color: var(--fill-color);\n",
              "      border-bottom-color: var(--fill-color);\n",
              "    }\n",
              "    90% {\n",
              "      border-color: transparent;\n",
              "      border-bottom-color: var(--fill-color);\n",
              "    }\n",
              "  }\n",
              "</style>\n",
              "\n",
              "  <script>\n",
              "    async function quickchart(key) {\n",
              "      const quickchartButtonEl =\n",
              "        document.querySelector('#' + key + ' button');\n",
              "      quickchartButtonEl.disabled = true;  // To prevent multiple clicks.\n",
              "      quickchartButtonEl.classList.add('colab-df-spinner');\n",
              "      try {\n",
              "        const charts = await google.colab.kernel.invokeFunction(\n",
              "            'suggestCharts', [key], {});\n",
              "      } catch (error) {\n",
              "        console.error('Error during call to suggestCharts:', error);\n",
              "      }\n",
              "      quickchartButtonEl.classList.remove('colab-df-spinner');\n",
              "      quickchartButtonEl.classList.add('colab-df-quickchart-complete');\n",
              "    }\n",
              "    (() => {\n",
              "      let quickchartButtonEl =\n",
              "        document.querySelector('#df-56244e6b-dcd3-4651-a16c-d750c0d8aac7 button');\n",
              "      quickchartButtonEl.style.display =\n",
              "        google.colab.kernel.accessAllowed ? 'block' : 'none';\n",
              "    })();\n",
              "  </script>\n",
              "</div>\n",
              "\n",
              "  <div id=\"id_f9c9b023-47ff-4340-9dd2-a00c2d9a74bd\">\n",
              "    <style>\n",
              "      .colab-df-generate {\n",
              "        background-color: #E8F0FE;\n",
              "        border: none;\n",
              "        border-radius: 50%;\n",
              "        cursor: pointer;\n",
              "        display: none;\n",
              "        fill: #1967D2;\n",
              "        height: 32px;\n",
              "        padding: 0 0 0 0;\n",
              "        width: 32px;\n",
              "      }\n",
              "\n",
              "      .colab-df-generate:hover {\n",
              "        background-color: #E2EBFA;\n",
              "        box-shadow: 0px 1px 2px rgba(60, 64, 67, 0.3), 0px 1px 3px 1px rgba(60, 64, 67, 0.15);\n",
              "        fill: #174EA6;\n",
              "      }\n",
              "\n",
              "      [theme=dark] .colab-df-generate {\n",
              "        background-color: #3B4455;\n",
              "        fill: #D2E3FC;\n",
              "      }\n",
              "\n",
              "      [theme=dark] .colab-df-generate:hover {\n",
              "        background-color: #434B5C;\n",
              "        box-shadow: 0px 1px 3px 1px rgba(0, 0, 0, 0.15);\n",
              "        filter: drop-shadow(0px 1px 2px rgba(0, 0, 0, 0.3));\n",
              "        fill: #FFFFFF;\n",
              "      }\n",
              "    </style>\n",
              "    <button class=\"colab-df-generate\" onclick=\"generateWithVariable('df')\"\n",
              "            title=\"Generate code using this dataframe.\"\n",
              "            style=\"display:none;\">\n",
              "\n",
              "  <svg xmlns=\"http://www.w3.org/2000/svg\" height=\"24px\"viewBox=\"0 0 24 24\"\n",
              "       width=\"24px\">\n",
              "    <path d=\"M7,19H8.4L18.45,9,17,7.55,7,17.6ZM5,21V16.75L18.45,3.32a2,2,0,0,1,2.83,0l1.4,1.43a1.91,1.91,0,0,1,.58,1.4,1.91,1.91,0,0,1-.58,1.4L9.25,21ZM18.45,9,17,7.55Zm-12,3A5.31,5.31,0,0,0,4.9,8.1,5.31,5.31,0,0,0,1,6.5,5.31,5.31,0,0,0,4.9,4.9,5.31,5.31,0,0,0,6.5,1,5.31,5.31,0,0,0,8.1,4.9,5.31,5.31,0,0,0,12,6.5,5.46,5.46,0,0,0,6.5,12Z\"/>\n",
              "  </svg>\n",
              "    </button>\n",
              "    <script>\n",
              "      (() => {\n",
              "      const buttonEl =\n",
              "        document.querySelector('#id_f9c9b023-47ff-4340-9dd2-a00c2d9a74bd button.colab-df-generate');\n",
              "      buttonEl.style.display =\n",
              "        google.colab.kernel.accessAllowed ? 'block' : 'none';\n",
              "\n",
              "      buttonEl.onclick = () => {\n",
              "        google.colab.notebook.generateWithVariable('df');\n",
              "      }\n",
              "      })();\n",
              "    </script>\n",
              "  </div>\n",
              "\n",
              "    </div>\n",
              "  </div>\n"
            ],
            "application/vnd.google.colaboratory.intrinsic+json": {
              "type": "dataframe",
              "variable_name": "df",
              "summary": "{\n  \"name\": \"df\",\n  \"rows\": 7,\n  \"fields\": [\n    {\n      \"column\": \"Train Score\",\n      \"properties\": {\n        \"dtype\": \"number\",\n        \"std\": 0.42092568375553413,\n        \"min\": 0.1366138285955656,\n        \"max\": 0.9999877482832659,\n        \"num_unique_values\": 7,\n        \"samples\": [\n          0.9964918698075921,\n          0.9999556586937504,\n          0.9999332542808335\n        ],\n        \"semantic_type\": \"\",\n        \"description\": \"\"\n      }\n    },\n    {\n      \"column\": \"Test Score\",\n      \"properties\": {\n        \"dtype\": \"number\",\n        \"std\": 0.42340855507156927,\n        \"min\": 0.13142701474512852,\n        \"max\": 0.999964899154559,\n        \"num_unique_values\": 7,\n        \"samples\": [\n          0.9960187568625364,\n          0.999964899154559,\n          0.9999401024347242\n        ],\n        \"semantic_type\": \"\",\n        \"description\": \"\"\n      }\n    },\n    {\n      \"column\": [\n        \"Cross_Validation_Train_Score\"\n      ],\n      \"properties\": {\n        \"dtype\": \"number\",\n        \"std\": 0.42837851164863855,\n        \"min\": 0.1203303200702697,\n        \"max\": 0.9999531264402087,\n        \"num_unique_values\": 7,\n        \"samples\": [\n          0.9913310842212064,\n          0.9999526906286205,\n          0.9999295558742451\n        ],\n        \"semantic_type\": \"\",\n        \"description\": \"\"\n      }\n    },\n    {\n      \"column\": [\n        \"Cross_Validation_Test_Score\"\n      ],\n      \"properties\": {\n        \"dtype\": \"number\",\n        \"std\": 0.4721743321752578,\n        \"min\": 0.025698665516082974,\n        \"max\": 0.9999568599942379,\n        \"num_unique_values\": 7,\n        \"samples\": [\n          0.9783756688706067,\n          0.9999568599942379,\n          0.999923327618953\n        ],\n        \"semantic_type\": \"\",\n        \"description\": \"\"\n      }\n    }\n  ]\n}"
            }
          },
          "metadata": {},
          "execution_count": 45
        }
      ]
    },
    {
      "cell_type": "markdown",
      "source": [
        "prediction\n"
      ],
      "metadata": {
        "id": "wgmn87TdIILR"
      }
    },
    {
      "cell_type": "code",
      "source": [
        "poly = PolynomialFeatures(degree=2)\n",
        "test_data = test.drop('Date',axis = 1)\n",
        "test_poly = poly.fit_transform(test_data)\n",
        "y_pred = linlasso.predict(test_poly)\n",
        "r=pd.DataFrame()\n",
        "r['btc_market_price before scale']=y_pred"
      ],
      "metadata": {
        "id": "j4JAwx2EIBx9"
      },
      "execution_count": null,
      "outputs": []
    },
    {
      "cell_type": "code",
      "source": [
        "poly = PolynomialFeatures(degree=2)\n",
        "X_poly = poly.fit_transform(X)\n",
        "X_train_py, X_test_py, y_train, y_test = train_test_split(X_poly, y, test_size = 0.2, random_state = 20)\n",
        "X_train_py = scaler.fit_transform(X_train_py)\n",
        "X_test_py = scaler.transform(X_test_py)\n",
        "\n",
        "linlasso = Lasso()\n",
        "linlasso.fit(X_train_py, y_train)\n",
        "print('Polynomial Lasso Regression')\n",
        "print('Train score: {}'.format(linlasso.score(X_train_py, y_train)))\n",
        "print('Test score: {}'.format(linlasso.score(X_test_py,y_test)))"
      ],
      "metadata": {
        "colab": {
          "base_uri": "https://localhost:8080/"
        },
        "id": "W0ufWlCPIPKA",
        "outputId": "de8fa405-d877-4c0c-be48-065e3c1a1f39"
      },
      "execution_count": null,
      "outputs": [
        {
          "output_type": "stream",
          "name": "stdout",
          "text": [
            "Polynomial Lasso Regression\n",
            "Train score: 0.9998945619610314\n",
            "Test score: 0.9998988540655782\n"
          ]
        }
      ]
    },
    {
      "cell_type": "code",
      "source": [
        "test = pd.read_csv('test_set.csv')\n",
        "test_data = test.drop('Date',axis = 1)\n",
        "X_poly = poly.transform(test_data)\n",
        "test_poly = scaler.transform(X_poly)\n",
        "r['btc_market_price after scale'] = linlasso.predict(test_poly)"
      ],
      "metadata": {
        "id": "umtF52xQLeCn"
      },
      "execution_count": null,
      "outputs": []
    },
    {
      "cell_type": "code",
      "source": [
        "r"
      ],
      "metadata": {
        "id": "ER92FvTJLiCW",
        "outputId": "654ad791-01e8-42c2-97b4-17e2ff7df8c5",
        "colab": {
          "base_uri": "https://localhost:8080/",
          "height": 488
        }
      },
      "execution_count": null,
      "outputs": [
        {
          "output_type": "execute_result",
          "data": {
            "text/plain": [
              "    btc_market_price before scale  btc_market_price after scale\n",
              "0                     9099.921986                   9136.020347\n",
              "1                     8875.222942                   9003.339705\n",
              "2                     9044.489265                   9174.150164\n",
              "3                     8326.734733                   8582.665330\n",
              "4                     6836.485488                   6974.159517\n",
              "5                     7730.150911                   7770.067645\n",
              "6                     8085.951666                   8153.761836\n",
              "7                     8183.653222                   8320.466859\n",
              "8                     8513.888672                   8616.173681\n",
              "9                     8290.446761                   8405.952550\n",
              "10                    8241.562871                   8509.702575\n",
              "11                    8786.607036                   8942.533824\n",
              "12                    8569.110810                   8726.800680\n",
              "13                    9321.826579                   9474.659464"
            ],
            "text/html": [
              "\n",
              "  <div id=\"df-702a6e9a-fc25-4b32-92ac-be42750c66c8\" class=\"colab-df-container\">\n",
              "    <div>\n",
              "<style scoped>\n",
              "    .dataframe tbody tr th:only-of-type {\n",
              "        vertical-align: middle;\n",
              "    }\n",
              "\n",
              "    .dataframe tbody tr th {\n",
              "        vertical-align: top;\n",
              "    }\n",
              "\n",
              "    .dataframe thead th {\n",
              "        text-align: right;\n",
              "    }\n",
              "</style>\n",
              "<table border=\"1\" class=\"dataframe\">\n",
              "  <thead>\n",
              "    <tr style=\"text-align: right;\">\n",
              "      <th></th>\n",
              "      <th>btc_market_price before scale</th>\n",
              "      <th>btc_market_price after scale</th>\n",
              "    </tr>\n",
              "  </thead>\n",
              "  <tbody>\n",
              "    <tr>\n",
              "      <th>0</th>\n",
              "      <td>9099.921986</td>\n",
              "      <td>9136.020347</td>\n",
              "    </tr>\n",
              "    <tr>\n",
              "      <th>1</th>\n",
              "      <td>8875.222942</td>\n",
              "      <td>9003.339705</td>\n",
              "    </tr>\n",
              "    <tr>\n",
              "      <th>2</th>\n",
              "      <td>9044.489265</td>\n",
              "      <td>9174.150164</td>\n",
              "    </tr>\n",
              "    <tr>\n",
              "      <th>3</th>\n",
              "      <td>8326.734733</td>\n",
              "      <td>8582.665330</td>\n",
              "    </tr>\n",
              "    <tr>\n",
              "      <th>4</th>\n",
              "      <td>6836.485488</td>\n",
              "      <td>6974.159517</td>\n",
              "    </tr>\n",
              "    <tr>\n",
              "      <th>5</th>\n",
              "      <td>7730.150911</td>\n",
              "      <td>7770.067645</td>\n",
              "    </tr>\n",
              "    <tr>\n",
              "      <th>6</th>\n",
              "      <td>8085.951666</td>\n",
              "      <td>8153.761836</td>\n",
              "    </tr>\n",
              "    <tr>\n",
              "      <th>7</th>\n",
              "      <td>8183.653222</td>\n",
              "      <td>8320.466859</td>\n",
              "    </tr>\n",
              "    <tr>\n",
              "      <th>8</th>\n",
              "      <td>8513.888672</td>\n",
              "      <td>8616.173681</td>\n",
              "    </tr>\n",
              "    <tr>\n",
              "      <th>9</th>\n",
              "      <td>8290.446761</td>\n",
              "      <td>8405.952550</td>\n",
              "    </tr>\n",
              "    <tr>\n",
              "      <th>10</th>\n",
              "      <td>8241.562871</td>\n",
              "      <td>8509.702575</td>\n",
              "    </tr>\n",
              "    <tr>\n",
              "      <th>11</th>\n",
              "      <td>8786.607036</td>\n",
              "      <td>8942.533824</td>\n",
              "    </tr>\n",
              "    <tr>\n",
              "      <th>12</th>\n",
              "      <td>8569.110810</td>\n",
              "      <td>8726.800680</td>\n",
              "    </tr>\n",
              "    <tr>\n",
              "      <th>13</th>\n",
              "      <td>9321.826579</td>\n",
              "      <td>9474.659464</td>\n",
              "    </tr>\n",
              "  </tbody>\n",
              "</table>\n",
              "</div>\n",
              "    <div class=\"colab-df-buttons\">\n",
              "\n",
              "  <div class=\"colab-df-container\">\n",
              "    <button class=\"colab-df-convert\" onclick=\"convertToInteractive('df-702a6e9a-fc25-4b32-92ac-be42750c66c8')\"\n",
              "            title=\"Convert this dataframe to an interactive table.\"\n",
              "            style=\"display:none;\">\n",
              "\n",
              "  <svg xmlns=\"http://www.w3.org/2000/svg\" height=\"24px\" viewBox=\"0 -960 960 960\">\n",
              "    <path d=\"M120-120v-720h720v720H120Zm60-500h600v-160H180v160Zm220 220h160v-160H400v160Zm0 220h160v-160H400v160ZM180-400h160v-160H180v160Zm440 0h160v-160H620v160ZM180-180h160v-160H180v160Zm440 0h160v-160H620v160Z\"/>\n",
              "  </svg>\n",
              "    </button>\n",
              "\n",
              "  <style>\n",
              "    .colab-df-container {\n",
              "      display:flex;\n",
              "      gap: 12px;\n",
              "    }\n",
              "\n",
              "    .colab-df-convert {\n",
              "      background-color: #E8F0FE;\n",
              "      border: none;\n",
              "      border-radius: 50%;\n",
              "      cursor: pointer;\n",
              "      display: none;\n",
              "      fill: #1967D2;\n",
              "      height: 32px;\n",
              "      padding: 0 0 0 0;\n",
              "      width: 32px;\n",
              "    }\n",
              "\n",
              "    .colab-df-convert:hover {\n",
              "      background-color: #E2EBFA;\n",
              "      box-shadow: 0px 1px 2px rgba(60, 64, 67, 0.3), 0px 1px 3px 1px rgba(60, 64, 67, 0.15);\n",
              "      fill: #174EA6;\n",
              "    }\n",
              "\n",
              "    .colab-df-buttons div {\n",
              "      margin-bottom: 4px;\n",
              "    }\n",
              "\n",
              "    [theme=dark] .colab-df-convert {\n",
              "      background-color: #3B4455;\n",
              "      fill: #D2E3FC;\n",
              "    }\n",
              "\n",
              "    [theme=dark] .colab-df-convert:hover {\n",
              "      background-color: #434B5C;\n",
              "      box-shadow: 0px 1px 3px 1px rgba(0, 0, 0, 0.15);\n",
              "      filter: drop-shadow(0px 1px 2px rgba(0, 0, 0, 0.3));\n",
              "      fill: #FFFFFF;\n",
              "    }\n",
              "  </style>\n",
              "\n",
              "    <script>\n",
              "      const buttonEl =\n",
              "        document.querySelector('#df-702a6e9a-fc25-4b32-92ac-be42750c66c8 button.colab-df-convert');\n",
              "      buttonEl.style.display =\n",
              "        google.colab.kernel.accessAllowed ? 'block' : 'none';\n",
              "\n",
              "      async function convertToInteractive(key) {\n",
              "        const element = document.querySelector('#df-702a6e9a-fc25-4b32-92ac-be42750c66c8');\n",
              "        const dataTable =\n",
              "          await google.colab.kernel.invokeFunction('convertToInteractive',\n",
              "                                                    [key], {});\n",
              "        if (!dataTable) return;\n",
              "\n",
              "        const docLinkHtml = 'Like what you see? Visit the ' +\n",
              "          '<a target=\"_blank\" href=https://colab.research.google.com/notebooks/data_table.ipynb>data table notebook</a>'\n",
              "          + ' to learn more about interactive tables.';\n",
              "        element.innerHTML = '';\n",
              "        dataTable['output_type'] = 'display_data';\n",
              "        await google.colab.output.renderOutput(dataTable, element);\n",
              "        const docLink = document.createElement('div');\n",
              "        docLink.innerHTML = docLinkHtml;\n",
              "        element.appendChild(docLink);\n",
              "      }\n",
              "    </script>\n",
              "  </div>\n",
              "\n",
              "\n",
              "<div id=\"df-9eb26d92-6c25-464a-9d2a-3dce9e1baa5c\">\n",
              "  <button class=\"colab-df-quickchart\" onclick=\"quickchart('df-9eb26d92-6c25-464a-9d2a-3dce9e1baa5c')\"\n",
              "            title=\"Suggest charts\"\n",
              "            style=\"display:none;\">\n",
              "\n",
              "<svg xmlns=\"http://www.w3.org/2000/svg\" height=\"24px\"viewBox=\"0 0 24 24\"\n",
              "     width=\"24px\">\n",
              "    <g>\n",
              "        <path d=\"M19 3H5c-1.1 0-2 .9-2 2v14c0 1.1.9 2 2 2h14c1.1 0 2-.9 2-2V5c0-1.1-.9-2-2-2zM9 17H7v-7h2v7zm4 0h-2V7h2v10zm4 0h-2v-4h2v4z\"/>\n",
              "    </g>\n",
              "</svg>\n",
              "  </button>\n",
              "\n",
              "<style>\n",
              "  .colab-df-quickchart {\n",
              "      --bg-color: #E8F0FE;\n",
              "      --fill-color: #1967D2;\n",
              "      --hover-bg-color: #E2EBFA;\n",
              "      --hover-fill-color: #174EA6;\n",
              "      --disabled-fill-color: #AAA;\n",
              "      --disabled-bg-color: #DDD;\n",
              "  }\n",
              "\n",
              "  [theme=dark] .colab-df-quickchart {\n",
              "      --bg-color: #3B4455;\n",
              "      --fill-color: #D2E3FC;\n",
              "      --hover-bg-color: #434B5C;\n",
              "      --hover-fill-color: #FFFFFF;\n",
              "      --disabled-bg-color: #3B4455;\n",
              "      --disabled-fill-color: #666;\n",
              "  }\n",
              "\n",
              "  .colab-df-quickchart {\n",
              "    background-color: var(--bg-color);\n",
              "    border: none;\n",
              "    border-radius: 50%;\n",
              "    cursor: pointer;\n",
              "    display: none;\n",
              "    fill: var(--fill-color);\n",
              "    height: 32px;\n",
              "    padding: 0;\n",
              "    width: 32px;\n",
              "  }\n",
              "\n",
              "  .colab-df-quickchart:hover {\n",
              "    background-color: var(--hover-bg-color);\n",
              "    box-shadow: 0 1px 2px rgba(60, 64, 67, 0.3), 0 1px 3px 1px rgba(60, 64, 67, 0.15);\n",
              "    fill: var(--button-hover-fill-color);\n",
              "  }\n",
              "\n",
              "  .colab-df-quickchart-complete:disabled,\n",
              "  .colab-df-quickchart-complete:disabled:hover {\n",
              "    background-color: var(--disabled-bg-color);\n",
              "    fill: var(--disabled-fill-color);\n",
              "    box-shadow: none;\n",
              "  }\n",
              "\n",
              "  .colab-df-spinner {\n",
              "    border: 2px solid var(--fill-color);\n",
              "    border-color: transparent;\n",
              "    border-bottom-color: var(--fill-color);\n",
              "    animation:\n",
              "      spin 1s steps(1) infinite;\n",
              "  }\n",
              "\n",
              "  @keyframes spin {\n",
              "    0% {\n",
              "      border-color: transparent;\n",
              "      border-bottom-color: var(--fill-color);\n",
              "      border-left-color: var(--fill-color);\n",
              "    }\n",
              "    20% {\n",
              "      border-color: transparent;\n",
              "      border-left-color: var(--fill-color);\n",
              "      border-top-color: var(--fill-color);\n",
              "    }\n",
              "    30% {\n",
              "      border-color: transparent;\n",
              "      border-left-color: var(--fill-color);\n",
              "      border-top-color: var(--fill-color);\n",
              "      border-right-color: var(--fill-color);\n",
              "    }\n",
              "    40% {\n",
              "      border-color: transparent;\n",
              "      border-right-color: var(--fill-color);\n",
              "      border-top-color: var(--fill-color);\n",
              "    }\n",
              "    60% {\n",
              "      border-color: transparent;\n",
              "      border-right-color: var(--fill-color);\n",
              "    }\n",
              "    80% {\n",
              "      border-color: transparent;\n",
              "      border-right-color: var(--fill-color);\n",
              "      border-bottom-color: var(--fill-color);\n",
              "    }\n",
              "    90% {\n",
              "      border-color: transparent;\n",
              "      border-bottom-color: var(--fill-color);\n",
              "    }\n",
              "  }\n",
              "</style>\n",
              "\n",
              "  <script>\n",
              "    async function quickchart(key) {\n",
              "      const quickchartButtonEl =\n",
              "        document.querySelector('#' + key + ' button');\n",
              "      quickchartButtonEl.disabled = true;  // To prevent multiple clicks.\n",
              "      quickchartButtonEl.classList.add('colab-df-spinner');\n",
              "      try {\n",
              "        const charts = await google.colab.kernel.invokeFunction(\n",
              "            'suggestCharts', [key], {});\n",
              "      } catch (error) {\n",
              "        console.error('Error during call to suggestCharts:', error);\n",
              "      }\n",
              "      quickchartButtonEl.classList.remove('colab-df-spinner');\n",
              "      quickchartButtonEl.classList.add('colab-df-quickchart-complete');\n",
              "    }\n",
              "    (() => {\n",
              "      let quickchartButtonEl =\n",
              "        document.querySelector('#df-9eb26d92-6c25-464a-9d2a-3dce9e1baa5c button');\n",
              "      quickchartButtonEl.style.display =\n",
              "        google.colab.kernel.accessAllowed ? 'block' : 'none';\n",
              "    })();\n",
              "  </script>\n",
              "</div>\n",
              "\n",
              "  <div id=\"id_1b46865c-dbba-4692-a125-7cace90a50f5\">\n",
              "    <style>\n",
              "      .colab-df-generate {\n",
              "        background-color: #E8F0FE;\n",
              "        border: none;\n",
              "        border-radius: 50%;\n",
              "        cursor: pointer;\n",
              "        display: none;\n",
              "        fill: #1967D2;\n",
              "        height: 32px;\n",
              "        padding: 0 0 0 0;\n",
              "        width: 32px;\n",
              "      }\n",
              "\n",
              "      .colab-df-generate:hover {\n",
              "        background-color: #E2EBFA;\n",
              "        box-shadow: 0px 1px 2px rgba(60, 64, 67, 0.3), 0px 1px 3px 1px rgba(60, 64, 67, 0.15);\n",
              "        fill: #174EA6;\n",
              "      }\n",
              "\n",
              "      [theme=dark] .colab-df-generate {\n",
              "        background-color: #3B4455;\n",
              "        fill: #D2E3FC;\n",
              "      }\n",
              "\n",
              "      [theme=dark] .colab-df-generate:hover {\n",
              "        background-color: #434B5C;\n",
              "        box-shadow: 0px 1px 3px 1px rgba(0, 0, 0, 0.15);\n",
              "        filter: drop-shadow(0px 1px 2px rgba(0, 0, 0, 0.3));\n",
              "        fill: #FFFFFF;\n",
              "      }\n",
              "    </style>\n",
              "    <button class=\"colab-df-generate\" onclick=\"generateWithVariable('r')\"\n",
              "            title=\"Generate code using this dataframe.\"\n",
              "            style=\"display:none;\">\n",
              "\n",
              "  <svg xmlns=\"http://www.w3.org/2000/svg\" height=\"24px\"viewBox=\"0 0 24 24\"\n",
              "       width=\"24px\">\n",
              "    <path d=\"M7,19H8.4L18.45,9,17,7.55,7,17.6ZM5,21V16.75L18.45,3.32a2,2,0,0,1,2.83,0l1.4,1.43a1.91,1.91,0,0,1,.58,1.4,1.91,1.91,0,0,1-.58,1.4L9.25,21ZM18.45,9,17,7.55Zm-12,3A5.31,5.31,0,0,0,4.9,8.1,5.31,5.31,0,0,0,1,6.5,5.31,5.31,0,0,0,4.9,4.9,5.31,5.31,0,0,0,6.5,1,5.31,5.31,0,0,0,8.1,4.9,5.31,5.31,0,0,0,12,6.5,5.46,5.46,0,0,0,6.5,12Z\"/>\n",
              "  </svg>\n",
              "    </button>\n",
              "    <script>\n",
              "      (() => {\n",
              "      const buttonEl =\n",
              "        document.querySelector('#id_1b46865c-dbba-4692-a125-7cace90a50f5 button.colab-df-generate');\n",
              "      buttonEl.style.display =\n",
              "        google.colab.kernel.accessAllowed ? 'block' : 'none';\n",
              "\n",
              "      buttonEl.onclick = () => {\n",
              "        google.colab.notebook.generateWithVariable('r');\n",
              "      }\n",
              "      })();\n",
              "    </script>\n",
              "  </div>\n",
              "\n",
              "    </div>\n",
              "  </div>\n"
            ],
            "application/vnd.google.colaboratory.intrinsic+json": {
              "type": "dataframe",
              "variable_name": "r",
              "summary": "{\n  \"name\": \"r\",\n  \"rows\": 14,\n  \"fields\": [\n    {\n      \"column\": \"btc_market_price before scale\",\n      \"properties\": {\n        \"dtype\": \"number\",\n        \"std\": 635.2698719247139,\n        \"min\": 6836.485488006392,\n        \"max\": 9321.82657932394,\n        \"num_unique_values\": 14,\n        \"samples\": [\n          8290.446760857132,\n          8786.607036439005,\n          9099.921985687966\n        ],\n        \"semantic_type\": \"\",\n        \"description\": \"\"\n      }\n    },\n    {\n      \"column\": \"btc_market_price after scale\",\n      \"properties\": {\n        \"dtype\": \"number\",\n        \"std\": 638.9492291128028,\n        \"min\": 6974.159517138535,\n        \"max\": 9474.659464082291,\n        \"num_unique_values\": 14,\n        \"samples\": [\n          8405.952550119824,\n          8942.533824020513,\n          9136.020347065096\n        ],\n        \"semantic_type\": \"\",\n        \"description\": \"\"\n      }\n    }\n  ]\n}"
            }
          },
          "metadata": {},
          "execution_count": 52
        }
      ]
    },
    {
      "cell_type": "code",
      "source": [],
      "metadata": {
        "id": "Os5AjUlsLjR_"
      },
      "execution_count": null,
      "outputs": []
    }
  ]
}